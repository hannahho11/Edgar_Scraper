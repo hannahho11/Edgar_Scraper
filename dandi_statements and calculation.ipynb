{
 "cells": [
  {
   "cell_type": "code",
   "execution_count": 11,
   "metadata": {},
   "outputs": [],
   "source": [
    "\n",
    "import requests\n",
    "from lxml import html\n",
    "from bs4 import BeautifulSoup\n",
    "import re\n",
    "from datetime import date\n",
    "import pandas as pd\n",
    "import requests"
   ]
  },
  {
   "cell_type": "code",
   "execution_count": null,
   "metadata": {},
   "outputs": [],
   "source": []
  },
  {
   "cell_type": "markdown",
   "metadata": {},
   "source": [
    "### GET TICKER FROM USER (VALIDATION INCLUDED)"
   ]
  },
  {
   "cell_type": "code",
   "execution_count": 12,
   "metadata": {},
   "outputs": [],
   "source": [
    "#returns the company's CIK\n",
    "def get_ticker():\n",
    "    comp = False\n",
    "    while comp == False:\n",
    "        comp = input('Please enter the ticker for the company you want to search(required):')\n",
    "        if comp == '':\n",
    "            comp = False\n",
    "        else:\n",
    "            #get the search page \n",
    "            #count = 5 so parse fast since we are just getting the name of company\n",
    "            baselink = 'https://www.sec.gov/cgi-bin/browse-edgar?action=getcompany&CIK={}&type=&dateb=&owner=exclude&count=5'\n",
    "            #search lowercase \n",
    "            comp = comp.lower()\n",
    "            url = baselink.format(comp)\n",
    "            page = requests.get(url)\n",
    "            soup = BeautifulSoup(page.content, 'html.parser')\n",
    "\n",
    "            #see if no match is found \n",
    "            no_match = soup.find_all('h1')\n",
    "\n",
    "            #if not found \n",
    "            if len(list(no_match))!=0:\n",
    "                print(no_match[0].text)\n",
    "                print('Please try again')\n",
    "                comp = False\n",
    "            #when there is a match, check if right match\n",
    "            else:\n",
    "                comp_name = list(soup.find_all('span', class_ = 'companyName'))[0].\\\n",
    "                text.replace('(see all company filings)','')\n",
    "\n",
    "                right_company = False\n",
    "                #ask the user if they is what they are looking for\n",
    "                right_company = False\n",
    "                while right_company == False:\n",
    "                    print('')\n",
    "                    print('')\n",
    "                    print('Is this the company you are looking for? (Press Y for yes N for no)')\n",
    "                    right_company = input(comp_name)\n",
    "                    if right_company.upper() != 'Y' and right_company.upper() !='N':\n",
    "                        right_company = False\n",
    "                    elif right_company.upper() == 'N':\n",
    "                        comp = False\n",
    "                    else: \n",
    "                        return comp_name.split(' ')[-2]\n"
   ]
  },
  {
   "cell_type": "markdown",
   "metadata": {},
   "source": [
    "### GET THE DATE SEARCH RANGE A SEPRATE DATE VALIDATION"
   ]
  },
  {
   "cell_type": "code",
   "execution_count": 13,
   "metadata": {},
   "outputs": [],
   "source": [
    "#check if the date entered is valid \n",
    "#returns either False or valid date as pair [start,end]\n",
    "def date_validation(start, end):\n",
    "    current_date = int(date.today().strftime('%Y%m%d'))\n",
    "    \n",
    "    #ignore if empty start and end\n",
    "    if start == '' and end == '':\n",
    "        return ['','']\n",
    "    #check format length\n",
    "    if len(start) != 8 or len(end)!=8:\n",
    "        print('Please check date entered!')\n",
    "        return False\n",
    "    \n",
    "    #see if user entered the right date\n",
    "    try:\n",
    "        start_test = pd.to_datetime(start,format='%Y%m%d')\n",
    "        end_test = pd.to_datetime(end,format='%Y%m%d')\n",
    "    #when the user enter the wrong content - entering anyting other than numbers \n",
    "    except:\n",
    "        print('Please enter the right date (numbers only)')\n",
    "        return False\n",
    "    start = int(start)\n",
    "    end = int(end)\n",
    "    #check if reasonable begin &end date\n",
    "    if start> current_date or start < 20090501 or end <20090501 or end < start:\n",
    "        print('Please check the year entry. The application do not support search prior to May 2009.')\n",
    "        return False\n",
    "    else:\n",
    "        #if user's end year > this year, then end year would be this year\n",
    "        if end > current_date:\n",
    "            end = current_date\n",
    "            return[start,end]\n",
    "        else:\n",
    "            right_year = True\n",
    "            return[start,end]   \n",
    "        \n",
    "        \n",
    "#asking for the end year start year\n",
    "#return the final search range. format: list[startdate, enddate]\n",
    "def get_year():\n",
    "    \n",
    "    right_year = False\n",
    "    while right_year == False:\n",
    "        print('Date format: YYYYMMDD')\n",
    "        start_year = input('optional - Search Start year (Press enter to pass):')\n",
    "        end_year = input('optional - Search end year (Press enter to pass):')\n",
    "        right_year = date_validation(start_year , end_year)\n",
    "    return right_year"
   ]
  },
  {
   "cell_type": "markdown",
   "metadata": {},
   "source": [
    "### GET FILE TYPE (10-K ONLY SO FAR)"
   ]
  },
  {
   "cell_type": "code",
   "execution_count": 14,
   "metadata": {},
   "outputs": [],
   "source": [
    "#get the file type\n",
    "#so far only returns '10-k'\n",
    "#returns true or false\n",
    "def get_file_type():\n",
    "    filetype = False\n",
    "    while filetype == False:\n",
    "        filetype = input ('what document are you looking for?')\n",
    "        if filetype == '':\n",
    "            filetype = False\n",
    "        else:\n",
    "            if filetype == '10k' or filetype =='10 k' or filetype =='10-k'\\\n",
    "            or filetype =='10K' or filetype =='10 K' or filetype =='10-K':\n",
    "                return '10-K'\n",
    "            else:\n",
    "                print('Please check the file type!')\n",
    "                filetype = False\n",
    "    "
   ]
  },
  {
   "cell_type": "code",
   "execution_count": null,
   "metadata": {},
   "outputs": [],
   "source": []
  },
  {
   "cell_type": "markdown",
   "metadata": {},
   "source": [
    "### GET THE ACTUAL 10K FILES"
   ]
  },
  {
   "cell_type": "markdown",
   "metadata": {},
   "source": [
    "#### Get the initial search page"
   ]
  },
  {
   "cell_type": "code",
   "execution_count": 15,
   "metadata": {},
   "outputs": [],
   "source": [
    "#returns a page worth of html\n",
    "def get_files(CIK, search_range,file_type):\n",
    "\n",
    "    baselink = 'https://www.sec.gov/cgi-bin/browse-edgar?action=getcompany&CIK={}&type={}&dateb={}&owner=exclude&count=100'\n",
    "\n",
    "    #break date_range into start and end, link only takes dates prior to XXXX\n",
    "    start_year = search_range[0]\n",
    "    end_year = search_range[1]\n",
    "    #fill link\n",
    "    link = baselink.format(CIK,file_type,end_year)\n",
    "\n",
    "    #get html content\n",
    "    page = requests.get(link)\n",
    "    soup = BeautifulSoup(page.content, 'html.parser')\n",
    "    return soup"
   ]
  },
  {
   "cell_type": "markdown",
   "metadata": {},
   "source": [
    "#### get dataframe that contains the file type, link and date"
   ]
  },
  {
   "cell_type": "code",
   "execution_count": 16,
   "metadata": {},
   "outputs": [],
   "source": [
    "#get the table that contain the information\n",
    "#returns a dataframe\n",
    "def get_files_df(soup,search_range):\n",
    "    file_rows = list(soup.find_all('tr'))[3:]\n",
    "\n",
    "    #create list that contain each file's information\n",
    "    f_types =[]\n",
    "    f_links =[]\n",
    "    f_dates = []\n",
    "    sec_link = 'http://sec.gov'\n",
    "\n",
    "    #create list that contain each file's information\n",
    "    for row in file_rows:\n",
    "        \n",
    "        #gets file date\n",
    "        file_type = row.find_all('td',{'nowrap':'nowrap'})[0].text\n",
    "        file_date = row.find_all('td')[3].text.replace('-','')\n",
    "        file_link = sec_link+row.find_all('td',{'nowrap':'nowrap'})[1].find_all('a', href = True)[0]['href']\n",
    "\n",
    "        #this gets every item's file link\n",
    "        if int(file_date) >int(search_range[0]) and int(file_date)<int(search_range[1]) and file_type == '10-K':\n",
    "            f_types.append(file_type)\n",
    "            f_dates.append(file_date)\n",
    "            f_links.append(file_link)\n",
    "\n",
    "\n",
    "    #construct a table:\n",
    "    #['file type']: 10-k | ['file link']: sec.gov/Archive/....| ['file date': 19960303]\n",
    "    files_table = pd.DataFrame({'file type':f_types,'file link':f_links,'file date':f_dates})\n",
    "    return files_table\n"
   ]
  },
  {
   "cell_type": "code",
   "execution_count": null,
   "metadata": {},
   "outputs": [],
   "source": []
  },
  {
   "cell_type": "markdown",
   "metadata": {},
   "source": [
    "#### create a dataframe that filters for the right file types and dates"
   ]
  },
  {
   "cell_type": "code",
   "execution_count": 17,
   "metadata": {},
   "outputs": [],
   "source": [
    "#filter dates since SEC only allows search with 'prior to'\n",
    "#filter out non-10k item (e.g. 10-k/a...)\n",
    "#returns a dataframe\n",
    "def filtered_df(search_range,file_type,files_table):\n",
    "#     #filter date\n",
    "#     date_filtered = files_table[files_table['file date']>search_range[0]]\n",
    "#     date_filtered\n",
    "#     date_filtered = date_filtered[date_filtered['file date']<search_range[1]]\n",
    "#     #filter file type\n",
    "#     type_filtered = date_filtered[date_filtered['file type']=='10-K']\n",
    "    return files_table"
   ]
  },
  {
   "cell_type": "markdown",
   "metadata": {},
   "source": [
    "#### get the link to all the 10-k files "
   ]
  },
  {
   "cell_type": "code",
   "execution_count": 18,
   "metadata": {},
   "outputs": [],
   "source": [
    "#get links for file \n",
    "#returns a list of links\n",
    "def get_list_doc_link_text(filtered_df):\n",
    "    sec_link = 'http://sec.gov'\n",
    "    file_links = filtered_df['file link'].tolist()\n",
    "    doc_links = []\n",
    "    for URL in file_links:\n",
    "        page_specific_10k = requests.get(URL)\n",
    "        soup = BeautifulSoup(page_specific_10k.content, 'html.parser')\n",
    "        complete_file_link = soup.find_all('table')[0].find_all('tr')[-1].\\\n",
    "                                        find_all('a',href = True)[0]['href']\n",
    "        doc_full_link = sec_link + complete_file_link\n",
    "        doc_links.append(doc_full_link)\n",
    "    return doc_links\n",
    "def get_link(filtered_df):\n",
    "    return filtered_df['file link']"
   ]
  },
  {
   "cell_type": "markdown",
   "metadata": {},
   "source": [
    "#### MAIN FUNCTION THAT USE OTHER FUNCTIONS"
   ]
  },
  {
   "cell_type": "code",
   "execution_count": 19,
   "metadata": {},
   "outputs": [],
   "source": [
    "\n",
    "#currently returns a list of file links\n",
    "#should return the process of getting FCFF\n",
    "def main():\n",
    "    comp_name = get_ticker()\n",
    "    search_range = get_year()\n",
    "    file_type = get_file_type()\n",
    "    initial_search_html = get_files(comp_name,search_range,file_type)\n",
    "    file_link_df = get_files_df(initial_search_html,search_range)\n",
    "    filtered = filtered_df(search_range,file_type,file_link_df)\n",
    "    files_list_links = get_list_doc_link_text(filtered)\n",
    "    #links = get_link(filtered)\n",
    "    \n",
    "    \n",
    "    return files_list_links\n",
    "    \n",
    "    \n",
    "    \n",
    "    "
   ]
  },
  {
   "cell_type": "code",
   "execution_count": 20,
   "metadata": {},
   "outputs": [
    {
     "ename": "KeyboardInterrupt",
     "evalue": "",
     "output_type": "error",
     "traceback": [
      "\u001b[0;31m---------------------------------------------------------------------------\u001b[0m",
      "\u001b[0;31mKeyboardInterrupt\u001b[0m                         Traceback (most recent call last)",
      "\u001b[0;32m/Library/Frameworks/Python.framework/Versions/3.7/lib/python3.7/site-packages/ipykernel/kernelbase.py\u001b[0m in \u001b[0;36m_input_request\u001b[0;34m(self, prompt, ident, parent, password)\u001b[0m\n\u001b[1;32m    884\u001b[0m             \u001b[0;32mtry\u001b[0m\u001b[0;34m:\u001b[0m\u001b[0;34m\u001b[0m\u001b[0;34m\u001b[0m\u001b[0m\n\u001b[0;32m--> 885\u001b[0;31m                 \u001b[0mident\u001b[0m\u001b[0;34m,\u001b[0m \u001b[0mreply\u001b[0m \u001b[0;34m=\u001b[0m \u001b[0mself\u001b[0m\u001b[0;34m.\u001b[0m\u001b[0msession\u001b[0m\u001b[0;34m.\u001b[0m\u001b[0mrecv\u001b[0m\u001b[0;34m(\u001b[0m\u001b[0mself\u001b[0m\u001b[0;34m.\u001b[0m\u001b[0mstdin_socket\u001b[0m\u001b[0;34m,\u001b[0m \u001b[0;36m0\u001b[0m\u001b[0;34m)\u001b[0m\u001b[0;34m\u001b[0m\u001b[0;34m\u001b[0m\u001b[0m\n\u001b[0m\u001b[1;32m    886\u001b[0m             \u001b[0;32mexcept\u001b[0m \u001b[0mException\u001b[0m\u001b[0;34m:\u001b[0m\u001b[0;34m\u001b[0m\u001b[0;34m\u001b[0m\u001b[0m\n",
      "\u001b[0;32m/Library/Frameworks/Python.framework/Versions/3.7/lib/python3.7/site-packages/jupyter_client/session.py\u001b[0m in \u001b[0;36mrecv\u001b[0;34m(self, socket, mode, content, copy)\u001b[0m\n\u001b[1;32m    802\u001b[0m         \u001b[0;32mtry\u001b[0m\u001b[0;34m:\u001b[0m\u001b[0;34m\u001b[0m\u001b[0;34m\u001b[0m\u001b[0m\n\u001b[0;32m--> 803\u001b[0;31m             \u001b[0mmsg_list\u001b[0m \u001b[0;34m=\u001b[0m \u001b[0msocket\u001b[0m\u001b[0;34m.\u001b[0m\u001b[0mrecv_multipart\u001b[0m\u001b[0;34m(\u001b[0m\u001b[0mmode\u001b[0m\u001b[0;34m,\u001b[0m \u001b[0mcopy\u001b[0m\u001b[0;34m=\u001b[0m\u001b[0mcopy\u001b[0m\u001b[0;34m)\u001b[0m\u001b[0;34m\u001b[0m\u001b[0;34m\u001b[0m\u001b[0m\n\u001b[0m\u001b[1;32m    804\u001b[0m         \u001b[0;32mexcept\u001b[0m \u001b[0mzmq\u001b[0m\u001b[0;34m.\u001b[0m\u001b[0mZMQError\u001b[0m \u001b[0;32mas\u001b[0m \u001b[0me\u001b[0m\u001b[0;34m:\u001b[0m\u001b[0;34m\u001b[0m\u001b[0;34m\u001b[0m\u001b[0m\n",
      "\u001b[0;32m/Library/Frameworks/Python.framework/Versions/3.7/lib/python3.7/site-packages/zmq/sugar/socket.py\u001b[0m in \u001b[0;36mrecv_multipart\u001b[0;34m(self, flags, copy, track)\u001b[0m\n\u001b[1;32m    474\u001b[0m         \"\"\"\n\u001b[0;32m--> 475\u001b[0;31m         \u001b[0mparts\u001b[0m \u001b[0;34m=\u001b[0m \u001b[0;34m[\u001b[0m\u001b[0mself\u001b[0m\u001b[0;34m.\u001b[0m\u001b[0mrecv\u001b[0m\u001b[0;34m(\u001b[0m\u001b[0mflags\u001b[0m\u001b[0;34m,\u001b[0m \u001b[0mcopy\u001b[0m\u001b[0;34m=\u001b[0m\u001b[0mcopy\u001b[0m\u001b[0;34m,\u001b[0m \u001b[0mtrack\u001b[0m\u001b[0;34m=\u001b[0m\u001b[0mtrack\u001b[0m\u001b[0;34m)\u001b[0m\u001b[0;34m]\u001b[0m\u001b[0;34m\u001b[0m\u001b[0;34m\u001b[0m\u001b[0m\n\u001b[0m\u001b[1;32m    476\u001b[0m         \u001b[0;31m# have first part already, only loop while more to receive\u001b[0m\u001b[0;34m\u001b[0m\u001b[0;34m\u001b[0m\u001b[0;34m\u001b[0m\u001b[0m\n",
      "\u001b[0;32mzmq/backend/cython/socket.pyx\u001b[0m in \u001b[0;36mzmq.backend.cython.socket.Socket.recv\u001b[0;34m()\u001b[0m\n",
      "\u001b[0;32mzmq/backend/cython/socket.pyx\u001b[0m in \u001b[0;36mzmq.backend.cython.socket.Socket.recv\u001b[0;34m()\u001b[0m\n",
      "\u001b[0;32mzmq/backend/cython/socket.pyx\u001b[0m in \u001b[0;36mzmq.backend.cython.socket._recv_copy\u001b[0;34m()\u001b[0m\n",
      "\u001b[0;32m/Library/Frameworks/Python.framework/Versions/3.7/lib/python3.7/site-packages/zmq/backend/cython/checkrc.pxd\u001b[0m in \u001b[0;36mzmq.backend.cython.checkrc._check_rc\u001b[0;34m()\u001b[0m\n",
      "\u001b[0;31mKeyboardInterrupt\u001b[0m: ",
      "\nDuring handling of the above exception, another exception occurred:\n",
      "\u001b[0;31mKeyboardInterrupt\u001b[0m                         Traceback (most recent call last)",
      "\u001b[0;32m<ipython-input-20-bb17eb936581>\u001b[0m in \u001b[0;36m<module>\u001b[0;34m\u001b[0m\n\u001b[1;32m      5\u001b[0m \u001b[0;31m#     file_type = any variation of 10k works (eg '10k','10 k','10K'....)\u001b[0m\u001b[0;34m\u001b[0m\u001b[0;34m\u001b[0m\u001b[0;34m\u001b[0m\u001b[0m\n\u001b[1;32m      6\u001b[0m \u001b[0;31m######################################\u001b[0m\u001b[0;34m\u001b[0m\u001b[0;34m\u001b[0m\u001b[0;34m\u001b[0m\u001b[0m\n\u001b[0;32m----> 7\u001b[0;31m \u001b[0mmain\u001b[0m\u001b[0;34m(\u001b[0m\u001b[0;34m)\u001b[0m\u001b[0;34m\u001b[0m\u001b[0;34m\u001b[0m\u001b[0m\n\u001b[0m",
      "\u001b[0;32m<ipython-input-19-bb4568707c84>\u001b[0m in \u001b[0;36mmain\u001b[0;34m()\u001b[0m\n\u001b[1;32m      2\u001b[0m \u001b[0;31m#should return the process of getting FCFF\u001b[0m\u001b[0;34m\u001b[0m\u001b[0;34m\u001b[0m\u001b[0;34m\u001b[0m\u001b[0m\n\u001b[1;32m      3\u001b[0m \u001b[0;32mdef\u001b[0m \u001b[0mmain\u001b[0m\u001b[0;34m(\u001b[0m\u001b[0;34m)\u001b[0m\u001b[0;34m:\u001b[0m\u001b[0;34m\u001b[0m\u001b[0;34m\u001b[0m\u001b[0m\n\u001b[0;32m----> 4\u001b[0;31m     \u001b[0mcomp_name\u001b[0m \u001b[0;34m=\u001b[0m \u001b[0mget_ticker\u001b[0m\u001b[0;34m(\u001b[0m\u001b[0;34m)\u001b[0m\u001b[0;34m\u001b[0m\u001b[0;34m\u001b[0m\u001b[0m\n\u001b[0m\u001b[1;32m      5\u001b[0m     \u001b[0msearch_range\u001b[0m \u001b[0;34m=\u001b[0m \u001b[0mget_year\u001b[0m\u001b[0;34m(\u001b[0m\u001b[0;34m)\u001b[0m\u001b[0;34m\u001b[0m\u001b[0;34m\u001b[0m\u001b[0m\n\u001b[1;32m      6\u001b[0m     \u001b[0mfile_type\u001b[0m \u001b[0;34m=\u001b[0m \u001b[0mget_file_type\u001b[0m\u001b[0;34m(\u001b[0m\u001b[0;34m)\u001b[0m\u001b[0;34m\u001b[0m\u001b[0;34m\u001b[0m\u001b[0m\n",
      "\u001b[0;32m<ipython-input-12-e044567fe043>\u001b[0m in \u001b[0;36mget_ticker\u001b[0;34m()\u001b[0m\n\u001b[1;32m      3\u001b[0m     \u001b[0mcomp\u001b[0m \u001b[0;34m=\u001b[0m \u001b[0;32mFalse\u001b[0m\u001b[0;34m\u001b[0m\u001b[0;34m\u001b[0m\u001b[0m\n\u001b[1;32m      4\u001b[0m     \u001b[0;32mwhile\u001b[0m \u001b[0mcomp\u001b[0m \u001b[0;34m==\u001b[0m \u001b[0;32mFalse\u001b[0m\u001b[0;34m:\u001b[0m\u001b[0;34m\u001b[0m\u001b[0;34m\u001b[0m\u001b[0m\n\u001b[0;32m----> 5\u001b[0;31m         \u001b[0mcomp\u001b[0m \u001b[0;34m=\u001b[0m \u001b[0minput\u001b[0m\u001b[0;34m(\u001b[0m\u001b[0;34m'Please enter the ticker for the company you want to search(required):'\u001b[0m\u001b[0;34m)\u001b[0m\u001b[0;34m\u001b[0m\u001b[0;34m\u001b[0m\u001b[0m\n\u001b[0m\u001b[1;32m      6\u001b[0m         \u001b[0;32mif\u001b[0m \u001b[0mcomp\u001b[0m \u001b[0;34m==\u001b[0m \u001b[0;34m''\u001b[0m\u001b[0;34m:\u001b[0m\u001b[0;34m\u001b[0m\u001b[0;34m\u001b[0m\u001b[0m\n\u001b[1;32m      7\u001b[0m             \u001b[0mcomp\u001b[0m \u001b[0;34m=\u001b[0m \u001b[0;32mFalse\u001b[0m\u001b[0;34m\u001b[0m\u001b[0;34m\u001b[0m\u001b[0m\n",
      "\u001b[0;32m/Library/Frameworks/Python.framework/Versions/3.7/lib/python3.7/site-packages/ipykernel/kernelbase.py\u001b[0m in \u001b[0;36mraw_input\u001b[0;34m(self, prompt)\u001b[0m\n\u001b[1;32m    858\u001b[0m             \u001b[0mself\u001b[0m\u001b[0;34m.\u001b[0m\u001b[0m_parent_ident\u001b[0m\u001b[0;34m,\u001b[0m\u001b[0;34m\u001b[0m\u001b[0;34m\u001b[0m\u001b[0m\n\u001b[1;32m    859\u001b[0m             \u001b[0mself\u001b[0m\u001b[0;34m.\u001b[0m\u001b[0m_parent_header\u001b[0m\u001b[0;34m,\u001b[0m\u001b[0;34m\u001b[0m\u001b[0;34m\u001b[0m\u001b[0m\n\u001b[0;32m--> 860\u001b[0;31m             \u001b[0mpassword\u001b[0m\u001b[0;34m=\u001b[0m\u001b[0;32mFalse\u001b[0m\u001b[0;34m,\u001b[0m\u001b[0;34m\u001b[0m\u001b[0;34m\u001b[0m\u001b[0m\n\u001b[0m\u001b[1;32m    861\u001b[0m         )\n\u001b[1;32m    862\u001b[0m \u001b[0;34m\u001b[0m\u001b[0m\n",
      "\u001b[0;32m/Library/Frameworks/Python.framework/Versions/3.7/lib/python3.7/site-packages/ipykernel/kernelbase.py\u001b[0m in \u001b[0;36m_input_request\u001b[0;34m(self, prompt, ident, parent, password)\u001b[0m\n\u001b[1;32m    888\u001b[0m             \u001b[0;32mexcept\u001b[0m \u001b[0mKeyboardInterrupt\u001b[0m\u001b[0;34m:\u001b[0m\u001b[0;34m\u001b[0m\u001b[0;34m\u001b[0m\u001b[0m\n\u001b[1;32m    889\u001b[0m                 \u001b[0;31m# re-raise KeyboardInterrupt, to truncate traceback\u001b[0m\u001b[0;34m\u001b[0m\u001b[0;34m\u001b[0m\u001b[0;34m\u001b[0m\u001b[0m\n\u001b[0;32m--> 890\u001b[0;31m                 \u001b[0;32mraise\u001b[0m \u001b[0mKeyboardInterrupt\u001b[0m\u001b[0;34m\u001b[0m\u001b[0;34m\u001b[0m\u001b[0m\n\u001b[0m\u001b[1;32m    891\u001b[0m             \u001b[0;32melse\u001b[0m\u001b[0;34m:\u001b[0m\u001b[0;34m\u001b[0m\u001b[0;34m\u001b[0m\u001b[0m\n\u001b[1;32m    892\u001b[0m                 \u001b[0;32mbreak\u001b[0m\u001b[0;34m\u001b[0m\u001b[0;34m\u001b[0m\u001b[0m\n",
      "\u001b[0;31mKeyboardInterrupt\u001b[0m: "
     ]
    }
   ],
   "source": [
    "#use the following test IF NEEDED\n",
    "########################################\n",
    "# CIK = int('0001652044')(googl)\n",
    "#     search_range = [20170101,20180101]\n",
    "#     file_type = any variation of 10k works (eg '10k','10 k','10K'....)\n",
    "######################################\n",
    "# main()"
   ]
  },
  {
   "cell_type": "markdown",
   "metadata": {},
   "source": [
    "## CODE ABOVE THIS LINE WORKS\n",
    "# RUN EVERYTHING BEFORE 'MAIN()'\n",
    "# UNFINISHED BELOW THIS LINE"
   ]
  },
  {
   "cell_type": "code",
   "execution_count": 21,
   "metadata": {},
   "outputs": [
    {
     "name": "stdout",
     "output_type": "stream",
     "text": [
      "Please enter the ticker for the company you want to search(required):amzn\n",
      "\n",
      "\n",
      "Is this the company you are looking for? (Press Y for yes N for no)\n",
      "AMAZON COM INC CIK#: 0001018724 y\n",
      "Date format: YYYYMMDD\n",
      "optional - Search Start year (Press enter to pass):20170101\n",
      "optional - Search end year (Press enter to pass):20180101\n",
      "what document are you looking for?10k\n",
      "['http://sec.gov/Archives/edgar/data/1018724/000101872417000011/0001018724-17-000011.txt']\n"
     ]
    }
   ],
   "source": [
    "#working on parsing each 10k\n",
    "# doc_links = main()\n",
    "# print (doc_links)"
   ]
  },
  {
   "cell_type": "code",
   "execution_count": 1,
   "metadata": {},
   "outputs": [
    {
     "ename": "NameError",
     "evalue": "name 'doc_links' is not defined",
     "output_type": "error",
     "traceback": [
      "\u001b[0;31m---------------------------------------------------------------------------\u001b[0m",
      "\u001b[0;31mNameError\u001b[0m                                 Traceback (most recent call last)",
      "\u001b[0;32m<ipython-input-1-a930e9ca387f>\u001b[0m in \u001b[0;36m<module>\u001b[0;34m\u001b[0m\n\u001b[1;32m      1\u001b[0m \u001b[0;31m#writes the html to local\u001b[0m\u001b[0;34m\u001b[0m\u001b[0;34m\u001b[0m\u001b[0;34m\u001b[0m\u001b[0m\n\u001b[0;32m----> 2\u001b[0;31m \u001b[0;32mfor\u001b[0m \u001b[0mlk\u001b[0m \u001b[0;32min\u001b[0m \u001b[0mdoc_links\u001b[0m\u001b[0;34m:\u001b[0m\u001b[0;34m\u001b[0m\u001b[0;34m\u001b[0m\u001b[0m\n\u001b[0m\u001b[1;32m      3\u001b[0m     \u001b[0mt_10k\u001b[0m \u001b[0;34m=\u001b[0m \u001b[0mrequests\u001b[0m\u001b[0;34m.\u001b[0m\u001b[0mget\u001b[0m\u001b[0;34m(\u001b[0m\u001b[0mlk\u001b[0m\u001b[0;34m)\u001b[0m\u001b[0;34m\u001b[0m\u001b[0;34m\u001b[0m\u001b[0m\n\u001b[1;32m      4\u001b[0m     \u001b[0mfile_soup\u001b[0m \u001b[0;34m=\u001b[0m \u001b[0mBeautifulSoup\u001b[0m\u001b[0;34m(\u001b[0m\u001b[0mt_10k\u001b[0m\u001b[0;34m.\u001b[0m\u001b[0mcontent\u001b[0m\u001b[0;34m,\u001b[0m \u001b[0;34m'html.parser'\u001b[0m\u001b[0;34m)\u001b[0m\u001b[0;34m\u001b[0m\u001b[0;34m\u001b[0m\u001b[0m\n\u001b[1;32m      5\u001b[0m     \u001b[0mname_format\u001b[0m \u001b[0;34m=\u001b[0m \u001b[0;34m'{}.html'\u001b[0m\u001b[0;34m\u001b[0m\u001b[0;34m\u001b[0m\u001b[0m\n",
      "\u001b[0;31mNameError\u001b[0m: name 'doc_links' is not defined"
     ]
    }
   ],
   "source": [
    "# #writes the html to local\n",
    "# for lk in doc_links:\n",
    "#     t_10k = requests.get(lk)\n",
    "#     file_soup = BeautifulSoup(t_10k.content, 'html.parser')\n",
    "#     name_format = '{}.html'\n",
    "#     name = name_format.format(i)\n",
    "#     test= open(name,\"w\")\n",
    "#     test.write(str(file_soup))\n",
    "#     test.close()\n"
   ]
  },
  {
   "cell_type": "code",
   "execution_count": 22,
   "metadata": {},
   "outputs": [
    {
     "name": "stdout",
     "output_type": "stream",
     "text": [
      "Please enter the ticker for the company you want to search(required):amzn\n",
      "\n",
      "\n",
      "Is this the company you are looking for? (Press Y for yes N for no)\n",
      "AMAZON COM INC CIK#: 0001018724 y\n",
      "Date format: YYYYMMDD\n",
      "optional - Search Start year (Press enter to pass):20170101\n",
      "optional - Search end year (Press enter to pass):20180101\n",
      "what document are you looking for?10k\n"
     ]
    }
   ],
   "source": [
    "# comp_name = get_ticker()\n",
    "# search_range = get_year()\n",
    "# file_type = get_file_type()\n",
    "# initial_search_html = get_files(comp_name,search_range,file_type)\n",
    "# soup = initial_search_html\n",
    "\n"
   ]
  },
  {
   "cell_type": "code",
   "execution_count": 23,
   "metadata": {},
   "outputs": [
    {
     "name": "stdout",
     "output_type": "stream",
     "text": [
      "http://sec.gov/Archives/edgar/data/1018724/0000891020-98-000448-index.html\n"
     ]
    }
   ],
   "source": [
    "\n",
    "# file_rows = list(soup.find_all('tr'))[3:]\n",
    "# sec_link = 'http://sec.gov'\n",
    "# f_links = []\n",
    "\n",
    "# for row in file_rows:\n",
    "#     file_type = row.find_all('td',{'nowrap':'nowrap'})[0].text\n",
    "#     file_date = row.find_all('td')[3].text\n",
    "#     file_link = sec_link+row.find_all('td',{'nowrap':'nowrap'})[1].find_all('a', href = True)[0]['href']\n",
    "        \n",
    "\n",
    "\n",
    "# print (file_link)\n",
    "\n"
   ]
  },
  {
   "cell_type": "markdown",
   "metadata": {},
   "source": [
    "# New test starts here\n",
    "the following get to the four/five financial statements in html. the last cell will write these statement into .html for testing purposes"
   ]
  },
  {
   "cell_type": "code",
   "execution_count": 484,
   "metadata": {},
   "outputs": [
    {
     "name": "stdout",
     "output_type": "stream",
     "text": [
      "Please enter the ticker for the company you want to search(required):amzn\n",
      "\n",
      "\n",
      "Is this the company you are looking for? (Press Y for yes N for no)\n",
      "AMAZON COM INC CIK#: 0001018724 20160101\n",
      "\n",
      "\n",
      "Is this the company you are looking for? (Press Y for yes N for no)\n",
      "AMAZON COM INC CIK#: 0001018724 20170101\n",
      "\n",
      "\n",
      "Is this the company you are looking for? (Press Y for yes N for no)\n",
      "AMAZON COM INC CIK#: 0001018724 y\n",
      "Date format: YYYYMMDD\n",
      "optional - Search Start year (Press enter to pass):20160101\n",
      "optional - Search end year (Press enter to pass):20170101\n",
      "what document are you looking for?10k\n",
      "['http://sec.gov/Archives/edgar/data/1018724/000101872416000172/0001018724-16-000172.txt']\n"
     ]
    }
   ],
   "source": [
    "link = main()\n",
    "print(link)"
   ]
  },
  {
   "cell_type": "code",
   "execution_count": 485,
   "metadata": {},
   "outputs": [
    {
     "data": {
      "text/plain": [
       "11352950"
      ]
     },
     "execution_count": 485,
     "metadata": {},
     "output_type": "execute_result"
    }
   ],
   "source": [
    "import urllib.request\n",
    "broken_xml = urllib.request.urlopen(link[0]).read().decode('utf-8')\n",
    "file_soup = BeautifulSoup(broken_xml, 'html.parser')\n",
    "len(broken_xml)"
   ]
  },
  {
   "cell_type": "code",
   "execution_count": 486,
   "metadata": {},
   "outputs": [],
   "source": [
    "# tables = file_soup.find_all('table')[8]"
   ]
  },
  {
   "cell_type": "code",
   "execution_count": 487,
   "metadata": {},
   "outputs": [],
   "source": [
    "\n",
    "# finstat =  tables.find(lambda tag:tag.name==\"tr\" and \"Financial Statements\" in tag.text)"
   ]
  },
  {
   "cell_type": "code",
   "execution_count": 488,
   "metadata": {},
   "outputs": [
    {
     "data": {
      "text/plain": [
       "78"
      ]
     },
     "execution_count": 488,
     "metadata": {},
     "output_type": "execute_result"
    }
   ],
   "source": [
    "##### split page on the devider line\n",
    "pages = broken_xml.split('page-break')\n",
    "len(pages)"
   ]
  },
  {
   "cell_type": "code",
   "execution_count": 489,
   "metadata": {},
   "outputs": [],
   "source": [
    "documents = ['Consolidated Statements of Cash Flows','Consolidated Statements of Operations', 'Consolidated Statements of Comprehensive Income', 'Consolidated Balance Sheets', 'CONSOLIDATED STATEMENTS OF STOCKHOLDERS']"
   ]
  },
  {
   "cell_type": "code",
   "execution_count": null,
   "metadata": {},
   "outputs": [],
   "source": []
  },
  {
   "cell_type": "code",
   "execution_count": 490,
   "metadata": {},
   "outputs": [
    {
     "name": "stdout",
     "output_type": "stream",
     "text": [
      "37\n",
      "38\n",
      "39\n",
      "40\n",
      "41\n"
     ]
    }
   ],
   "source": [
    "fin_document_dict = {}\n",
    "doc_list = []\n",
    "for page in pages:\n",
    "    idx = pages.index(page)\n",
    "    found = 0\n",
    "    for i in documents:\n",
    "        if i.upper() in page:\n",
    "            key = i\n",
    "            found = +1\n",
    "            print(idx)\n",
    "            \n",
    "    if found>=1:\n",
    "        pair = [key,page]\n",
    "        doc_list.append(pair)"
   ]
  },
  {
   "cell_type": "code",
   "execution_count": 491,
   "metadata": {},
   "outputs": [],
   "source": [
    "file = open('test.html','w')\n",
    "for i in doc_list:\n",
    "    file.write(i[1])\n",
    "file.close()"
   ]
  },
  {
   "cell_type": "code",
   "execution_count": 492,
   "metadata": {},
   "outputs": [],
   "source": [
    "from IPython.display import display_html\n",
    "statements = []\n",
    "for pair in doc_list:\n",
    "    name = pair[0]\n",
    "    page = pair[1]\n",
    "    \n",
    "    #parse page\n",
    "    file_soup = BeautifulSoup(page, 'html.parser')\n",
    "    table = str(file_soup.find_all('table'))\n",
    "    df = pd.read_html(table)[0].iloc[3:,:].dropna(axis = 1, how = 'all').fillna(0)\n",
    "    head = df.iloc[0]\n",
    "    df = df[1:]\n",
    "    df.columns = head\n",
    "    df[0] = df[0].apply(lambda x:x.replace('(','').replace(')','').replace('','').replace(',','').replace(';','').replace('0',''))\n",
    "    df = df.set_index(0)\n",
    "    pair = [name,df]\n",
    "    statements.append(pair)\n",
    "\n",
    "    "
   ]
  },
  {
   "cell_type": "code",
   "execution_count": null,
   "metadata": {},
   "outputs": [],
   "source": []
  },
  {
   "cell_type": "code",
   "execution_count": 493,
   "metadata": {},
   "outputs": [],
   "source": [
    "clean_statements = []\n",
    "for pair in statements:\n",
    "    name = pair[0]\n",
    "    table = pair[1]\n",
    "    if name != 'CONSOLIDATED STATEMENTS OF STOCKHOLDERS':\n",
    "        column_number = int(len(table.columns)/3)\n",
    "        column_name = table.columns.drop_duplicates().tolist()\n",
    "        column_index = table.index.tolist()\n",
    "        clean = pd.DataFrame()\n",
    "        clean['index'] = column_index\n",
    "        clean = clean.set_index('index')\n",
    "        for i in range(0,column_number):\n",
    "            which_column = (i+1)*3-2\n",
    "            content = table.iloc[:,which_column].values\n",
    "            column_name_clean = column_name[i]\n",
    "            clean[column_name_clean] = content\n",
    "\n",
    "        pair = [name,clean]\n",
    "        clean_statements.append(pair)\n",
    "        \n",
    "    if name == 'CONSOLIDATED STATEMENTS OF STOCKHOLDERS':\n",
    "        column_number = int(len(table.columns)/3)\n",
    "        column_name = table.columns.drop_duplicates().tolist()\n",
    "        column_index = table.index.tolist()\n",
    "        clean = pd.DataFrame()\n",
    "        clean['index'] = column_index\n",
    "        clean = clean.set_index('index')\n",
    "        for i in range(0,column_number):\n",
    "            if i ==0:\n",
    "                which_column = 0\n",
    "            else:\n",
    "                which_column = i*3\n",
    "            content = table.iloc[:,which_column].values\n",
    "            column_name_clean = column_name[i]\n",
    "            clean[column_name_clean] = content\n",
    "        \n",
    "        pair = [name,clean]\n",
    "        clean_statements.append(pair)\n",
    "    \n",
    "        \n",
    "    \n",
    "    \n",
    "    "
   ]
  },
  {
   "cell_type": "markdown",
   "metadata": {},
   "source": [
    "# Run the previous code\n",
    "clean statements is a nested list. the structure look like this\n",
    "clean statement = \n",
    "[\n",
    "                 [statement's name,  statement dataframe(which contains all the numbers]\n",
    "                 ......\n",
    "                 ]"
   ]
  },
  {
   "cell_type": "code",
   "execution_count": 494,
   "metadata": {},
   "outputs": [
    {
     "name": "stdout",
     "output_type": "stream",
     "text": [
      "Consolidated Statements of Cash Flows\n",
      "Consolidated Statements of Operations\n",
      "Consolidated Statements of Comprehensive Income\n",
      "Consolidated Balance Sheets\n",
      "CONSOLIDATED STATEMENTS OF STOCKHOLDERS\n"
     ]
    }
   ],
   "source": [
    "# statements[0].iloc[:,1]\n",
    "for i in clean_statements:\n",
    "    print(i[0])"
   ]
  },
  {
   "cell_type": "code",
   "execution_count": 495,
   "metadata": {},
   "outputs": [],
   "source": [
    "#set variable\n",
    "revenue = 0\n",
    "COGS = 0\n",
    "GrossProfit= 0 \n",
    "OPEX = 0\n",
    "DEPEX = 0\n",
    "tax = 0\n",
    "NOPAT= 0\n",
    "OCF =0\n",
    "CAPEX =0\n",
    "NWC = 0"
   ]
  },
  {
   "cell_type": "code",
   "execution_count": 496,
   "metadata": {},
   "outputs": [
    {
     "data": {
      "text/html": [
       "<div>\n",
       "<style scoped>\n",
       "    .dataframe tbody tr th:only-of-type {\n",
       "        vertical-align: middle;\n",
       "    }\n",
       "\n",
       "    .dataframe tbody tr th {\n",
       "        vertical-align: top;\n",
       "    }\n",
       "\n",
       "    .dataframe thead th {\n",
       "        text-align: right;\n",
       "    }\n",
       "</style>\n",
       "<table border=\"1\" class=\"dataframe\">\n",
       "  <thead>\n",
       "    <tr style=\"text-align: right;\">\n",
       "      <th></th>\n",
       "      <th>2015</th>\n",
       "      <th>2014</th>\n",
       "      <th>2013</th>\n",
       "    </tr>\n",
       "    <tr>\n",
       "      <th>index</th>\n",
       "      <th></th>\n",
       "      <th></th>\n",
       "      <th></th>\n",
       "    </tr>\n",
       "  </thead>\n",
       "  <tbody>\n",
       "    <tr>\n",
       "      <th>CASH AND CASH EQUIVALENTS BEGINNING OF PERIOD</th>\n",
       "      <td>14557</td>\n",
       "      <td>8658</td>\n",
       "      <td>8084</td>\n",
       "    </tr>\n",
       "    <tr>\n",
       "      <th>OPERATING ACTIVITIES:</th>\n",
       "      <td>0</td>\n",
       "      <td>0</td>\n",
       "      <td>0</td>\n",
       "    </tr>\n",
       "    <tr>\n",
       "      <th>Net income loss</th>\n",
       "      <td>596</td>\n",
       "      <td>(241</td>\n",
       "      <td>274</td>\n",
       "    </tr>\n",
       "    <tr>\n",
       "      <th>Adjustments to reconcile net income loss to net cash from operating activities:</th>\n",
       "      <td>0</td>\n",
       "      <td>0</td>\n",
       "      <td>0</td>\n",
       "    </tr>\n",
       "    <tr>\n",
       "      <th>Depreciation of property and equipment including internal-use software and website development and other amortization including capitalized content costs</th>\n",
       "      <td>6281</td>\n",
       "      <td>4746</td>\n",
       "      <td>3253</td>\n",
       "    </tr>\n",
       "    <tr>\n",
       "      <th>Stock-based compensation</th>\n",
       "      <td>2119</td>\n",
       "      <td>1497</td>\n",
       "      <td>1134</td>\n",
       "    </tr>\n",
       "    <tr>\n",
       "      <th>Other operating expense income net</th>\n",
       "      <td>155</td>\n",
       "      <td>129</td>\n",
       "      <td>114</td>\n",
       "    </tr>\n",
       "    <tr>\n",
       "      <th>Losses gains on sales of marketable securities net</th>\n",
       "      <td>5</td>\n",
       "      <td>(3</td>\n",
       "      <td>1</td>\n",
       "    </tr>\n",
       "    <tr>\n",
       "      <th>Other expense income net</th>\n",
       "      <td>245</td>\n",
       "      <td>62</td>\n",
       "      <td>166</td>\n",
       "    </tr>\n",
       "    <tr>\n",
       "      <th>Deferred income taxes</th>\n",
       "      <td>81</td>\n",
       "      <td>(316</td>\n",
       "      <td>(156</td>\n",
       "    </tr>\n",
       "    <tr>\n",
       "      <th>Excess tax benefits from stock-based compensation</th>\n",
       "      <td>(119</td>\n",
       "      <td>(6</td>\n",
       "      <td>(78</td>\n",
       "    </tr>\n",
       "    <tr>\n",
       "      <th>Changes in operating assets and liabilities:</th>\n",
       "      <td>0</td>\n",
       "      <td>0</td>\n",
       "      <td>0</td>\n",
       "    </tr>\n",
       "    <tr>\n",
       "      <th>Inventories</th>\n",
       "      <td>(2,187</td>\n",
       "      <td>(1,193</td>\n",
       "      <td>(1,410</td>\n",
       "    </tr>\n",
       "    <tr>\n",
       "      <th>Accounts receivable net and other</th>\n",
       "      <td>(1,755</td>\n",
       "      <td>(1,039</td>\n",
       "      <td>(846</td>\n",
       "    </tr>\n",
       "    <tr>\n",
       "      <th>Accounts payable</th>\n",
       "      <td>4294</td>\n",
       "      <td>1759</td>\n",
       "      <td>1888</td>\n",
       "    </tr>\n",
       "    <tr>\n",
       "      <th>Accrued expenses and other</th>\n",
       "      <td>913</td>\n",
       "      <td>706</td>\n",
       "      <td>736</td>\n",
       "    </tr>\n",
       "    <tr>\n",
       "      <th>Additions to unearned revenue</th>\n",
       "      <td>7401</td>\n",
       "      <td>4433</td>\n",
       "      <td>2691</td>\n",
       "    </tr>\n",
       "    <tr>\n",
       "      <th>Amortization of previously unearned revenue</th>\n",
       "      <td>(6,109</td>\n",
       "      <td>(3,692</td>\n",
       "      <td>(2,292</td>\n",
       "    </tr>\n",
       "    <tr>\n",
       "      <th>Net cash provided by used in operating activities</th>\n",
       "      <td>11920</td>\n",
       "      <td>6842</td>\n",
       "      <td>5475</td>\n",
       "    </tr>\n",
       "    <tr>\n",
       "      <th>INVESTING ACTIVITIES:</th>\n",
       "      <td>0</td>\n",
       "      <td>0</td>\n",
       "      <td>0</td>\n",
       "    </tr>\n",
       "    <tr>\n",
       "      <th>Purchases of property and equipment including internal-use software and website development net</th>\n",
       "      <td>(4,589</td>\n",
       "      <td>(4,893</td>\n",
       "      <td>(3,444</td>\n",
       "    </tr>\n",
       "    <tr>\n",
       "      <th>Acquisitions net of cash acquired and other</th>\n",
       "      <td>(795</td>\n",
       "      <td>(979</td>\n",
       "      <td>(312</td>\n",
       "    </tr>\n",
       "    <tr>\n",
       "      <th>Sales and maturities of marketable securities</th>\n",
       "      <td>3025</td>\n",
       "      <td>3349</td>\n",
       "      <td>2306</td>\n",
       "    </tr>\n",
       "    <tr>\n",
       "      <th>Purchases of marketable securities</th>\n",
       "      <td>(4,091</td>\n",
       "      <td>(2,542</td>\n",
       "      <td>(2,826</td>\n",
       "    </tr>\n",
       "    <tr>\n",
       "      <th>Net cash provided by used in investing activities</th>\n",
       "      <td>(6,450</td>\n",
       "      <td>(5,065</td>\n",
       "      <td>(4,276</td>\n",
       "    </tr>\n",
       "    <tr>\n",
       "      <th>FINANCING ACTIVITIES:</th>\n",
       "      <td>0</td>\n",
       "      <td>0</td>\n",
       "      <td>0</td>\n",
       "    </tr>\n",
       "    <tr>\n",
       "      <th>Excess tax benefits from stock-based compensation</th>\n",
       "      <td>119</td>\n",
       "      <td>6</td>\n",
       "      <td>78</td>\n",
       "    </tr>\n",
       "    <tr>\n",
       "      <th>Proceeds from long-term debt and other</th>\n",
       "      <td>353</td>\n",
       "      <td>6359</td>\n",
       "      <td>394</td>\n",
       "    </tr>\n",
       "    <tr>\n",
       "      <th>Repayments of long-term debt and other</th>\n",
       "      <td>(1,652</td>\n",
       "      <td>(513</td>\n",
       "      <td>(231</td>\n",
       "    </tr>\n",
       "    <tr>\n",
       "      <th>Principal repayments of capital lease obligations</th>\n",
       "      <td>(2,462</td>\n",
       "      <td>(1,285</td>\n",
       "      <td>(775</td>\n",
       "    </tr>\n",
       "    <tr>\n",
       "      <th>Principal repayments of finance lease obligations</th>\n",
       "      <td>(121</td>\n",
       "      <td>(135</td>\n",
       "      <td>(5</td>\n",
       "    </tr>\n",
       "    <tr>\n",
       "      <th>Net cash provided by used in financing activities</th>\n",
       "      <td>(3,763</td>\n",
       "      <td>4432</td>\n",
       "      <td>(539</td>\n",
       "    </tr>\n",
       "    <tr>\n",
       "      <th>Foreign-currency effect on cash and cash equivalents</th>\n",
       "      <td>(374</td>\n",
       "      <td>(310</td>\n",
       "      <td>(86</td>\n",
       "    </tr>\n",
       "    <tr>\n",
       "      <th>Net increase decrease in cash and cash equivalents</th>\n",
       "      <td>1333</td>\n",
       "      <td>5899</td>\n",
       "      <td>574</td>\n",
       "    </tr>\n",
       "    <tr>\n",
       "      <th>CASH AND CASH EQUIVALENTS END OF PERIOD</th>\n",
       "      <td>15890</td>\n",
       "      <td>14557</td>\n",
       "      <td>8658</td>\n",
       "    </tr>\n",
       "    <tr>\n",
       "      <th>SUPPLEMENTAL CASH FLOW INFORMATION:</th>\n",
       "      <td>0</td>\n",
       "      <td>0</td>\n",
       "      <td>0</td>\n",
       "    </tr>\n",
       "    <tr>\n",
       "      <th>Cash paid for interest on long-term debt</th>\n",
       "      <td>325</td>\n",
       "      <td>91</td>\n",
       "      <td>97</td>\n",
       "    </tr>\n",
       "    <tr>\n",
       "      <th>Cash paid for interest on capital and finance lease obligations</th>\n",
       "      <td>153</td>\n",
       "      <td>86</td>\n",
       "      <td>41</td>\n",
       "    </tr>\n",
       "    <tr>\n",
       "      <th>Cash paid for income taxes net of refunds</th>\n",
       "      <td>273</td>\n",
       "      <td>177</td>\n",
       "      <td>169</td>\n",
       "    </tr>\n",
       "    <tr>\n",
       "      <th>Property and equipment acquired under capital leases</th>\n",
       "      <td>4717</td>\n",
       "      <td>4008</td>\n",
       "      <td>1867</td>\n",
       "    </tr>\n",
       "    <tr>\n",
       "      <th>Property and equipment acquired under build-to-suit leases</th>\n",
       "      <td>544</td>\n",
       "      <td>920</td>\n",
       "      <td>877</td>\n",
       "    </tr>\n",
       "  </tbody>\n",
       "</table>\n",
       "</div>"
      ],
      "text/plain": [
       "                                                      2015    2014    2013\n",
       "index                                                                     \n",
       "CASH AND CASH EQUIVALENTS BEGINNING OF PERIOD        14557    8658    8084\n",
       "OPERATING ACTIVITIES:                                    0       0       0\n",
       "Net income loss                                        596    (241     274\n",
       "Adjustments to reconcile net income loss to net...       0       0       0\n",
       "Depreciation of property and equipment includin...    6281    4746    3253\n",
       "Stock-based compensation                              2119    1497    1134\n",
       "Other operating expense income net                     155     129     114\n",
       "Losses gains on sales of marketable securities net       5      (3       1\n",
       "Other expense income net                               245      62     166\n",
       "Deferred income taxes                                   81    (316    (156\n",
       "Excess tax benefits from stock-based compensation     (119      (6     (78\n",
       "Changes in operating assets and liabilities:             0       0       0\n",
       "Inventories                                         (2,187  (1,193  (1,410\n",
       "Accounts receivable net and other                   (1,755  (1,039    (846\n",
       "Accounts payable                                      4294    1759    1888\n",
       "Accrued expenses and other                             913     706     736\n",
       "Additions to unearned revenue                         7401    4433    2691\n",
       "Amortization of previously unearned revenue         (6,109  (3,692  (2,292\n",
       "Net cash provided by used in operating activities    11920    6842    5475\n",
       "INVESTING ACTIVITIES:                                    0       0       0\n",
       "Purchases of property and equipment including i...  (4,589  (4,893  (3,444\n",
       "Acquisitions net of cash acquired and other           (795    (979    (312\n",
       "Sales and maturities of marketable securities         3025    3349    2306\n",
       "Purchases of marketable securities                  (4,091  (2,542  (2,826\n",
       "Net cash provided by used in investing activities   (6,450  (5,065  (4,276\n",
       "FINANCING ACTIVITIES:                                    0       0       0\n",
       "Excess tax benefits from stock-based compensation      119       6      78\n",
       "Proceeds from long-term debt and other                 353    6359     394\n",
       "Repayments of long-term debt and other              (1,652    (513    (231\n",
       "Principal repayments of capital lease obligations   (2,462  (1,285    (775\n",
       "Principal repayments of finance lease obligations     (121    (135      (5\n",
       "Net cash provided by used in financing activities   (3,763    4432    (539\n",
       "Foreign-currency effect on cash and cash equiva...    (374    (310     (86\n",
       "Net increase decrease in cash and cash equivalents    1333    5899     574\n",
       "CASH AND CASH EQUIVALENTS END OF PERIOD              15890   14557    8658\n",
       "SUPPLEMENTAL CASH FLOW INFORMATION:                      0       0       0\n",
       "Cash paid for interest on long-term debt               325      91      97\n",
       "Cash paid for interest on capital and finance l...     153      86      41\n",
       "Cash paid for income taxes net of refunds              273     177     169\n",
       "Property and equipment acquired under capital l...    4717    4008    1867\n",
       "Property and equipment acquired under build-to-...     544     920     877"
      ]
     },
     "execution_count": 496,
     "metadata": {},
     "output_type": "execute_result"
    }
   ],
   "source": [
    "clean_statements[0][1]"
   ]
  },
  {
   "cell_type": "code",
   "execution_count": 504,
   "metadata": {},
   "outputs": [],
   "source": [
    "for statement in clean_statements:\n",
    "    name = statement[0]\n",
    "    chart = statement[1]\n",
    "    if name == 'Consolidated Statements of Cash Flows':\n",
    "        DEPEX = int(chart.loc['Depreciation of property and equipment including internal-use software and website development and other amortization including capitalized content costs'][0].replace('(','').replace(',',''))\n",
    "        tax = int(chart.loc['Cash paid for income taxes net of refunds'][0].replace('(','').replace(')','').replace(',',''))\n",
    "        CAPEX = int(chart.loc['Purchases of property and equipment including internal-use software and website development net'][0].replace('(','').replace(')','').replace(',',''))\n",
    "    if name == 'Consolidated Statements of Operations':\n",
    "        revenue = int(chart.loc['Total net sales'][0].replace('(','').replace(',',''))\n",
    "        OPEX = int(chart.loc['Total operating expenses'][0].replace('(','').replace(',',''))\n",
    "    if name == 'Consolidated Balance Sheets':\n",
    "        #capex calcualtion\n",
    "        cap_current = int(chart.loc['Property and equipment net'][0].replace('(','').replace(',',''))\n",
    "        cap_previous = int(chart.loc['Property and equipment net'][1].replace('(','').replace(',',''))\n",
    "        #CAPEX = cap_current - cap_previous + DEPEX\n",
    "        \n",
    "        #change in nwc\n",
    "        previous_nwc_asset = int(chart.loc['Total current assets'][1].replace('(','').replace(',',''))\n",
    "        previous_nwc_liability = int(chart.loc['Total current liabilities'][1].replace('(','').replace(',',''))\n",
    "        current_nwc_asset = int(chart.loc['Total current assets'][0].replace('(','').replace(',',''))\n",
    "        current_nwc_liability = int(chart.loc['Total current liabilities'][0].replace('(','').replace(',',''))\n",
    "        previous_nwc =  previous_nwc_asset- previous_nwc_liability\n",
    "        current_nwc =  current_nwc_asset- current_nwc_liability\n",
    "        NWC = current_nwc - previous_nwc\n",
    "        \n",
    "        "
   ]
  },
  {
   "cell_type": "code",
   "execution_count": 505,
   "metadata": {},
   "outputs": [],
   "source": [
    "\n",
    "GrossProfit= revenue- COGS\n",
    "EBIT = GrossProfit-OPEX-DEPEX\n",
    "NOPAT= EBIT - tax\n",
    "OCF =NOPAT+DEPEX\n",
    "FCFF = OCF - CAPEX - NWC"
   ]
  },
  {
   "cell_type": "code",
   "execution_count": 506,
   "metadata": {},
   "outputs": [
    {
     "name": "stdout",
     "output_type": "stream",
     "text": [
      "Calculation\n",
      "revenue \t 107006\n",
      "COGS \t\t - 0\n",
      "----------------------\n",
      "Gross Profit \t 107006\n",
      "OPEX \t\t - 104773\n",
      "DEPEX \t\t - 6281\n",
      "----------------------\n",
      "EBIT \t\t -4048\n",
      "tax \t\t - 273\n",
      "----------------------\n",
      "NOPAT \t\t -4321\n",
      "DEPEX \t\t + 6281\n",
      "---------------------\n",
      "OCF \t\t 1960\n",
      "CAPEX \t\t - 4589\n",
      "NWC \t\t - -663\n",
      "---------------------\n",
      "FCFF \t\t -1966\n"
     ]
    }
   ],
   "source": [
    "print('Calculation')\n",
    "print ('revenue','\\t',revenue)\n",
    "print('COGS','\\t\\t','-',COGS)\n",
    "print('----------------------')\n",
    "print('Gross Profit','\\t',GrossProfit)\n",
    "print('OPEX','\\t\\t','-',OPEX)\n",
    "print('DEPEX','\\t\\t','-',DEPEX)\n",
    "print('----------------------')\n",
    "print('EBIT','\\t\\t',EBIT)\n",
    "print('tax','\\t\\t','-',tax)\n",
    "print('----------------------')\n",
    "print('NOPAT','\\t\\t',NOPAT)\n",
    "print('DEPEX','\\t\\t','+',DEPEX)\n",
    "print('---------------------')\n",
    "print('OCF','\\t\\t',OCF)\n",
    "print('CAPEX','\\t\\t','-',CAPEX)\n",
    "print('NWC','\\t\\t','-',NWC)\n",
    "print('---------------------')\n",
    "print('FCFF','\\t\\t',FCFF)"
   ]
  },
  {
   "cell_type": "code",
   "execution_count": 483,
   "metadata": {},
   "outputs": [
    {
     "data": {
      "text/plain": [
       "1645"
      ]
     },
     "execution_count": 483,
     "metadata": {},
     "output_type": "execute_result"
    }
   ],
   "source": []
  },
  {
   "cell_type": "code",
   "execution_count": 466,
   "metadata": {},
   "outputs": [
    {
     "data": {
      "text/plain": [
       "3238"
      ]
     },
     "execution_count": 466,
     "metadata": {},
     "output_type": "execute_result"
    }
   ],
   "source": []
  },
  {
   "cell_type": "code",
   "execution_count": 501,
   "metadata": {},
   "outputs": [
    {
     "data": {
      "text/plain": [
       "6"
      ]
     },
     "execution_count": 501,
     "metadata": {},
     "output_type": "execute_result"
    }
   ],
   "source": []
  },
  {
   "cell_type": "code",
   "execution_count": null,
   "metadata": {},
   "outputs": [],
   "source": []
  }
 ],
 "metadata": {
  "kernelspec": {
   "display_name": "Python 3",
   "language": "python",
   "name": "python3"
  },
  "language_info": {
   "codemirror_mode": {
    "name": "ipython",
    "version": 3
   },
   "file_extension": ".py",
   "mimetype": "text/x-python",
   "name": "python",
   "nbconvert_exporter": "python",
   "pygments_lexer": "ipython3",
   "version": "3.7.5"
  }
 },
 "nbformat": 4,
 "nbformat_minor": 4
}
