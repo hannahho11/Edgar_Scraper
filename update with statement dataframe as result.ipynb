{
 "cells": [
  {
   "cell_type": "code",
   "execution_count": 11,
   "metadata": {},
   "outputs": [],
   "source": [
    "\n",
    "import requests\n",
    "from lxml import html\n",
    "from bs4 import BeautifulSoup\n",
    "import re\n",
    "from datetime import date\n",
    "import pandas as pd\n",
    "import requests"
   ]
  },
  {
   "cell_type": "code",
   "execution_count": null,
   "metadata": {},
   "outputs": [],
   "source": []
  },
  {
   "cell_type": "markdown",
   "metadata": {},
   "source": [
    "### GET TICKER FROM USER (VALIDATION INCLUDED)"
   ]
  },
  {
   "cell_type": "code",
   "execution_count": 12,
   "metadata": {},
   "outputs": [],
   "source": [
    "#returns the company's CIK\n",
    "def get_ticker():\n",
    "    comp = False\n",
    "    while comp == False:\n",
    "        comp = input('Please enter the ticker for the company you want to search(required):')\n",
    "        if comp == '':\n",
    "            comp = False\n",
    "        else:\n",
    "            #get the search page \n",
    "            #count = 5 so parse fast since we are just getting the name of company\n",
    "            baselink = 'https://www.sec.gov/cgi-bin/browse-edgar?action=getcompany&CIK={}&type=&dateb=&owner=exclude&count=5'\n",
    "            #search lowercase \n",
    "            comp = comp.lower()\n",
    "            url = baselink.format(comp)\n",
    "            page = requests.get(url)\n",
    "            soup = BeautifulSoup(page.content, 'html.parser')\n",
    "\n",
    "            #see if no match is found \n",
    "            no_match = soup.find_all('h1')\n",
    "\n",
    "            #if not found \n",
    "            if len(list(no_match))!=0:\n",
    "                print(no_match[0].text)\n",
    "                print('Please try again')\n",
    "                comp = False\n",
    "            #when there is a match, check if right match\n",
    "            else:\n",
    "                comp_name = list(soup.find_all('span', class_ = 'companyName'))[0].\\\n",
    "                text.replace('(see all company filings)','')\n",
    "\n",
    "                right_company = False\n",
    "                #ask the user if they is what they are looking for\n",
    "                right_company = False\n",
    "                while right_company == False:\n",
    "                    print('')\n",
    "                    print('')\n",
    "                    print('Is this the company you are looking for? (Press Y for yes N for no)')\n",
    "                    right_company = input(comp_name)\n",
    "                    if right_company.upper() != 'Y' and right_company.upper() !='N':\n",
    "                        right_company = False\n",
    "                    elif right_company.upper() == 'N':\n",
    "                        comp = False\n",
    "                    else: \n",
    "                        return comp_name.split(' ')[-2]\n"
   ]
  },
  {
   "cell_type": "markdown",
   "metadata": {},
   "source": [
    "### GET THE DATE SEARCH RANGE A SEPRATE DATE VALIDATION"
   ]
  },
  {
   "cell_type": "code",
   "execution_count": 13,
   "metadata": {},
   "outputs": [],
   "source": [
    "#check if the date entered is valid \n",
    "#returns either False or valid date as pair [start,end]\n",
    "def date_validation(start, end):\n",
    "    current_date = int(date.today().strftime('%Y%m%d'))\n",
    "    \n",
    "    #ignore if empty start and end\n",
    "    if start == '' and end == '':\n",
    "        return ['','']\n",
    "    #check format length\n",
    "    if len(start) != 8 or len(end)!=8:\n",
    "        print('Please check date entered!')\n",
    "        return False\n",
    "    \n",
    "    #see if user entered the right date\n",
    "    try:\n",
    "        start_test = pd.to_datetime(start,format='%Y%m%d')\n",
    "        end_test = pd.to_datetime(end,format='%Y%m%d')\n",
    "    #when the user enter the wrong content - entering anyting other than numbers \n",
    "    except:\n",
    "        print('Please enter the right date (numbers only)')\n",
    "        return False\n",
    "    start = int(start)\n",
    "    end = int(end)\n",
    "    #check if reasonable begin &end date\n",
    "    if start> current_date or start < 20090501 or end <20090501 or end < start:\n",
    "        print('Please check the year entry. The application do not support search prior to May 2009.')\n",
    "        return False\n",
    "    else:\n",
    "        #if user's end year > this year, then end year would be this year\n",
    "        if end > current_date:\n",
    "            end = current_date\n",
    "            return[start,end]\n",
    "        else:\n",
    "            right_year = True\n",
    "            return[start,end]   \n",
    "        \n",
    "        \n",
    "#asking for the end year start year\n",
    "#return the final search range. format: list[startdate, enddate]\n",
    "def get_year():\n",
    "    \n",
    "    right_year = False\n",
    "    while right_year == False:\n",
    "        print('Date format: YYYYMMDD')\n",
    "        start_year = input('optional - Search Start year (Press enter to pass):')\n",
    "        end_year = input('optional - Search end year (Press enter to pass):')\n",
    "        right_year = date_validation(start_year , end_year)\n",
    "    return right_year"
   ]
  },
  {
   "cell_type": "markdown",
   "metadata": {},
   "source": [
    "### GET FILE TYPE (10-K ONLY SO FAR)"
   ]
  },
  {
   "cell_type": "code",
   "execution_count": 14,
   "metadata": {},
   "outputs": [],
   "source": [
    "#get the file type\n",
    "#so far only returns '10-k'\n",
    "#returns true or false\n",
    "def get_file_type():\n",
    "    filetype = False\n",
    "    while filetype == False:\n",
    "        filetype = input ('what document are you looking for?')\n",
    "        if filetype == '':\n",
    "            filetype = False\n",
    "        else:\n",
    "            if filetype == '10k' or filetype =='10 k' or filetype =='10-k'\\\n",
    "            or filetype =='10K' or filetype =='10 K' or filetype =='10-K':\n",
    "                return '10-K'\n",
    "            else:\n",
    "                print('Please check the file type!')\n",
    "                filetype = False\n",
    "    "
   ]
  },
  {
   "cell_type": "code",
   "execution_count": null,
   "metadata": {},
   "outputs": [],
   "source": []
  },
  {
   "cell_type": "markdown",
   "metadata": {},
   "source": [
    "### GET THE ACTUAL 10K FILES"
   ]
  },
  {
   "cell_type": "markdown",
   "metadata": {},
   "source": [
    "#### Get the initial search page"
   ]
  },
  {
   "cell_type": "code",
   "execution_count": 15,
   "metadata": {},
   "outputs": [],
   "source": [
    "#returns a page worth of html\n",
    "def get_files(CIK, search_range,file_type):\n",
    "\n",
    "    baselink = 'https://www.sec.gov/cgi-bin/browse-edgar?action=getcompany&CIK={}&type={}&dateb={}&owner=exclude&count=100'\n",
    "\n",
    "    #break date_range into start and end, link only takes dates prior to XXXX\n",
    "    start_year = search_range[0]\n",
    "    end_year = search_range[1]\n",
    "    #fill link\n",
    "    link = baselink.format(CIK,file_type,end_year)\n",
    "\n",
    "    #get html content\n",
    "    page = requests.get(link)\n",
    "    soup = BeautifulSoup(page.content, 'html.parser')\n",
    "    return soup"
   ]
  },
  {
   "cell_type": "markdown",
   "metadata": {},
   "source": [
    "#### get dataframe that contains the file type, link and date"
   ]
  },
  {
   "cell_type": "code",
   "execution_count": 16,
   "metadata": {},
   "outputs": [],
   "source": [
    "#get the table that contain the information\n",
    "#returns a dataframe\n",
    "def get_files_df(soup,search_range):\n",
    "    file_rows = list(soup.find_all('tr'))[3:]\n",
    "\n",
    "    #create list that contain each file's information\n",
    "    f_types =[]\n",
    "    f_links =[]\n",
    "    f_dates = []\n",
    "    sec_link = 'http://sec.gov'\n",
    "\n",
    "    #create list that contain each file's information\n",
    "    for row in file_rows:\n",
    "        \n",
    "        #gets file date\n",
    "        file_type = row.find_all('td',{'nowrap':'nowrap'})[0].text\n",
    "        file_date = row.find_all('td')[3].text.replace('-','')\n",
    "        file_link = sec_link+row.find_all('td',{'nowrap':'nowrap'})[1].find_all('a', href = True)[0]['href']\n",
    "\n",
    "        #this gets every item's file link\n",
    "        if int(file_date) >int(search_range[0]) and int(file_date)<int(search_range[1]) and file_type == '10-K':\n",
    "            f_types.append(file_type)\n",
    "            f_dates.append(file_date)\n",
    "            f_links.append(file_link)\n",
    "\n",
    "\n",
    "    #construct a table:\n",
    "    #['file type']: 10-k | ['file link']: sec.gov/Archive/....| ['file date': 19960303]\n",
    "    files_table = pd.DataFrame({'file type':f_types,'file link':f_links,'file date':f_dates})\n",
    "    return files_table\n"
   ]
  },
  {
   "cell_type": "code",
   "execution_count": null,
   "metadata": {},
   "outputs": [],
   "source": []
  },
  {
   "cell_type": "markdown",
   "metadata": {},
   "source": [
    "#### create a dataframe that filters for the right file types and dates"
   ]
  },
  {
   "cell_type": "code",
   "execution_count": 17,
   "metadata": {},
   "outputs": [],
   "source": [
    "#filter dates since SEC only allows search with 'prior to'\n",
    "#filter out non-10k item (e.g. 10-k/a...)\n",
    "#returns a dataframe\n",
    "def filtered_df(search_range,file_type,files_table):\n",
    "#     #filter date\n",
    "#     date_filtered = files_table[files_table['file date']>search_range[0]]\n",
    "#     date_filtered\n",
    "#     date_filtered = date_filtered[date_filtered['file date']<search_range[1]]\n",
    "#     #filter file type\n",
    "#     type_filtered = date_filtered[date_filtered['file type']=='10-K']\n",
    "    return files_table"
   ]
  },
  {
   "cell_type": "markdown",
   "metadata": {},
   "source": [
    "#### get the link to all the 10-k files "
   ]
  },
  {
   "cell_type": "code",
   "execution_count": 18,
   "metadata": {},
   "outputs": [],
   "source": [
    "#get links for file \n",
    "#returns a list of links\n",
    "def get_list_doc_link_text(filtered_df):\n",
    "    sec_link = 'http://sec.gov'\n",
    "    file_links = filtered_df['file link'].tolist()\n",
    "    doc_links = []\n",
    "    for URL in file_links:\n",
    "        page_specific_10k = requests.get(URL)\n",
    "        soup = BeautifulSoup(page_specific_10k.content, 'html.parser')\n",
    "        complete_file_link = soup.find_all('table')[0].find_all('tr')[-1].\\\n",
    "                                        find_all('a',href = True)[0]['href']\n",
    "        doc_full_link = sec_link + complete_file_link\n",
    "        doc_links.append(doc_full_link)\n",
    "    return doc_links\n",
    "def get_link(filtered_df):\n",
    "    return filtered_df['file link']"
   ]
  },
  {
   "cell_type": "markdown",
   "metadata": {},
   "source": [
    "#### MAIN FUNCTION THAT USE OTHER FUNCTIONS"
   ]
  },
  {
   "cell_type": "code",
   "execution_count": 19,
   "metadata": {},
   "outputs": [],
   "source": [
    "\n",
    "#currently returns a list of file links\n",
    "#should return the process of getting FCFF\n",
    "def main():\n",
    "    comp_name = get_ticker()\n",
    "    search_range = get_year()\n",
    "    file_type = get_file_type()\n",
    "    initial_search_html = get_files(comp_name,search_range,file_type)\n",
    "    file_link_df = get_files_df(initial_search_html,search_range)\n",
    "    filtered = filtered_df(search_range,file_type,file_link_df)\n",
    "    files_list_links = get_list_doc_link_text(filtered)\n",
    "    #links = get_link(filtered)\n",
    "    \n",
    "    \n",
    "    return files_list_links\n",
    "    \n",
    "    \n",
    "    \n",
    "    "
   ]
  },
  {
   "cell_type": "code",
   "execution_count": 20,
   "metadata": {},
   "outputs": [
    {
     "ename": "KeyboardInterrupt",
     "evalue": "",
     "output_type": "error",
     "traceback": [
      "\u001b[0;31m---------------------------------------------------------------------------\u001b[0m",
      "\u001b[0;31mKeyboardInterrupt\u001b[0m                         Traceback (most recent call last)",
      "\u001b[0;32m/Library/Frameworks/Python.framework/Versions/3.7/lib/python3.7/site-packages/ipykernel/kernelbase.py\u001b[0m in \u001b[0;36m_input_request\u001b[0;34m(self, prompt, ident, parent, password)\u001b[0m\n\u001b[1;32m    884\u001b[0m             \u001b[0;32mtry\u001b[0m\u001b[0;34m:\u001b[0m\u001b[0;34m\u001b[0m\u001b[0;34m\u001b[0m\u001b[0m\n\u001b[0;32m--> 885\u001b[0;31m                 \u001b[0mident\u001b[0m\u001b[0;34m,\u001b[0m \u001b[0mreply\u001b[0m \u001b[0;34m=\u001b[0m \u001b[0mself\u001b[0m\u001b[0;34m.\u001b[0m\u001b[0msession\u001b[0m\u001b[0;34m.\u001b[0m\u001b[0mrecv\u001b[0m\u001b[0;34m(\u001b[0m\u001b[0mself\u001b[0m\u001b[0;34m.\u001b[0m\u001b[0mstdin_socket\u001b[0m\u001b[0;34m,\u001b[0m \u001b[0;36m0\u001b[0m\u001b[0;34m)\u001b[0m\u001b[0;34m\u001b[0m\u001b[0;34m\u001b[0m\u001b[0m\n\u001b[0m\u001b[1;32m    886\u001b[0m             \u001b[0;32mexcept\u001b[0m \u001b[0mException\u001b[0m\u001b[0;34m:\u001b[0m\u001b[0;34m\u001b[0m\u001b[0;34m\u001b[0m\u001b[0m\n",
      "\u001b[0;32m/Library/Frameworks/Python.framework/Versions/3.7/lib/python3.7/site-packages/jupyter_client/session.py\u001b[0m in \u001b[0;36mrecv\u001b[0;34m(self, socket, mode, content, copy)\u001b[0m\n\u001b[1;32m    802\u001b[0m         \u001b[0;32mtry\u001b[0m\u001b[0;34m:\u001b[0m\u001b[0;34m\u001b[0m\u001b[0;34m\u001b[0m\u001b[0m\n\u001b[0;32m--> 803\u001b[0;31m             \u001b[0mmsg_list\u001b[0m \u001b[0;34m=\u001b[0m \u001b[0msocket\u001b[0m\u001b[0;34m.\u001b[0m\u001b[0mrecv_multipart\u001b[0m\u001b[0;34m(\u001b[0m\u001b[0mmode\u001b[0m\u001b[0;34m,\u001b[0m \u001b[0mcopy\u001b[0m\u001b[0;34m=\u001b[0m\u001b[0mcopy\u001b[0m\u001b[0;34m)\u001b[0m\u001b[0;34m\u001b[0m\u001b[0;34m\u001b[0m\u001b[0m\n\u001b[0m\u001b[1;32m    804\u001b[0m         \u001b[0;32mexcept\u001b[0m \u001b[0mzmq\u001b[0m\u001b[0;34m.\u001b[0m\u001b[0mZMQError\u001b[0m \u001b[0;32mas\u001b[0m \u001b[0me\u001b[0m\u001b[0;34m:\u001b[0m\u001b[0;34m\u001b[0m\u001b[0;34m\u001b[0m\u001b[0m\n",
      "\u001b[0;32m/Library/Frameworks/Python.framework/Versions/3.7/lib/python3.7/site-packages/zmq/sugar/socket.py\u001b[0m in \u001b[0;36mrecv_multipart\u001b[0;34m(self, flags, copy, track)\u001b[0m\n\u001b[1;32m    474\u001b[0m         \"\"\"\n\u001b[0;32m--> 475\u001b[0;31m         \u001b[0mparts\u001b[0m \u001b[0;34m=\u001b[0m \u001b[0;34m[\u001b[0m\u001b[0mself\u001b[0m\u001b[0;34m.\u001b[0m\u001b[0mrecv\u001b[0m\u001b[0;34m(\u001b[0m\u001b[0mflags\u001b[0m\u001b[0;34m,\u001b[0m \u001b[0mcopy\u001b[0m\u001b[0;34m=\u001b[0m\u001b[0mcopy\u001b[0m\u001b[0;34m,\u001b[0m \u001b[0mtrack\u001b[0m\u001b[0;34m=\u001b[0m\u001b[0mtrack\u001b[0m\u001b[0;34m)\u001b[0m\u001b[0;34m]\u001b[0m\u001b[0;34m\u001b[0m\u001b[0;34m\u001b[0m\u001b[0m\n\u001b[0m\u001b[1;32m    476\u001b[0m         \u001b[0;31m# have first part already, only loop while more to receive\u001b[0m\u001b[0;34m\u001b[0m\u001b[0;34m\u001b[0m\u001b[0;34m\u001b[0m\u001b[0m\n",
      "\u001b[0;32mzmq/backend/cython/socket.pyx\u001b[0m in \u001b[0;36mzmq.backend.cython.socket.Socket.recv\u001b[0;34m()\u001b[0m\n",
      "\u001b[0;32mzmq/backend/cython/socket.pyx\u001b[0m in \u001b[0;36mzmq.backend.cython.socket.Socket.recv\u001b[0;34m()\u001b[0m\n",
      "\u001b[0;32mzmq/backend/cython/socket.pyx\u001b[0m in \u001b[0;36mzmq.backend.cython.socket._recv_copy\u001b[0;34m()\u001b[0m\n",
      "\u001b[0;32m/Library/Frameworks/Python.framework/Versions/3.7/lib/python3.7/site-packages/zmq/backend/cython/checkrc.pxd\u001b[0m in \u001b[0;36mzmq.backend.cython.checkrc._check_rc\u001b[0;34m()\u001b[0m\n",
      "\u001b[0;31mKeyboardInterrupt\u001b[0m: ",
      "\nDuring handling of the above exception, another exception occurred:\n",
      "\u001b[0;31mKeyboardInterrupt\u001b[0m                         Traceback (most recent call last)",
      "\u001b[0;32m<ipython-input-20-bb17eb936581>\u001b[0m in \u001b[0;36m<module>\u001b[0;34m\u001b[0m\n\u001b[1;32m      5\u001b[0m \u001b[0;31m#     file_type = any variation of 10k works (eg '10k','10 k','10K'....)\u001b[0m\u001b[0;34m\u001b[0m\u001b[0;34m\u001b[0m\u001b[0;34m\u001b[0m\u001b[0m\n\u001b[1;32m      6\u001b[0m \u001b[0;31m######################################\u001b[0m\u001b[0;34m\u001b[0m\u001b[0;34m\u001b[0m\u001b[0;34m\u001b[0m\u001b[0m\n\u001b[0;32m----> 7\u001b[0;31m \u001b[0mmain\u001b[0m\u001b[0;34m(\u001b[0m\u001b[0;34m)\u001b[0m\u001b[0;34m\u001b[0m\u001b[0;34m\u001b[0m\u001b[0m\n\u001b[0m",
      "\u001b[0;32m<ipython-input-19-bb4568707c84>\u001b[0m in \u001b[0;36mmain\u001b[0;34m()\u001b[0m\n\u001b[1;32m      2\u001b[0m \u001b[0;31m#should return the process of getting FCFF\u001b[0m\u001b[0;34m\u001b[0m\u001b[0;34m\u001b[0m\u001b[0;34m\u001b[0m\u001b[0m\n\u001b[1;32m      3\u001b[0m \u001b[0;32mdef\u001b[0m \u001b[0mmain\u001b[0m\u001b[0;34m(\u001b[0m\u001b[0;34m)\u001b[0m\u001b[0;34m:\u001b[0m\u001b[0;34m\u001b[0m\u001b[0;34m\u001b[0m\u001b[0m\n\u001b[0;32m----> 4\u001b[0;31m     \u001b[0mcomp_name\u001b[0m \u001b[0;34m=\u001b[0m \u001b[0mget_ticker\u001b[0m\u001b[0;34m(\u001b[0m\u001b[0;34m)\u001b[0m\u001b[0;34m\u001b[0m\u001b[0;34m\u001b[0m\u001b[0m\n\u001b[0m\u001b[1;32m      5\u001b[0m     \u001b[0msearch_range\u001b[0m \u001b[0;34m=\u001b[0m \u001b[0mget_year\u001b[0m\u001b[0;34m(\u001b[0m\u001b[0;34m)\u001b[0m\u001b[0;34m\u001b[0m\u001b[0;34m\u001b[0m\u001b[0m\n\u001b[1;32m      6\u001b[0m     \u001b[0mfile_type\u001b[0m \u001b[0;34m=\u001b[0m \u001b[0mget_file_type\u001b[0m\u001b[0;34m(\u001b[0m\u001b[0;34m)\u001b[0m\u001b[0;34m\u001b[0m\u001b[0;34m\u001b[0m\u001b[0m\n",
      "\u001b[0;32m<ipython-input-12-e044567fe043>\u001b[0m in \u001b[0;36mget_ticker\u001b[0;34m()\u001b[0m\n\u001b[1;32m      3\u001b[0m     \u001b[0mcomp\u001b[0m \u001b[0;34m=\u001b[0m \u001b[0;32mFalse\u001b[0m\u001b[0;34m\u001b[0m\u001b[0;34m\u001b[0m\u001b[0m\n\u001b[1;32m      4\u001b[0m     \u001b[0;32mwhile\u001b[0m \u001b[0mcomp\u001b[0m \u001b[0;34m==\u001b[0m \u001b[0;32mFalse\u001b[0m\u001b[0;34m:\u001b[0m\u001b[0;34m\u001b[0m\u001b[0;34m\u001b[0m\u001b[0m\n\u001b[0;32m----> 5\u001b[0;31m         \u001b[0mcomp\u001b[0m \u001b[0;34m=\u001b[0m \u001b[0minput\u001b[0m\u001b[0;34m(\u001b[0m\u001b[0;34m'Please enter the ticker for the company you want to search(required):'\u001b[0m\u001b[0;34m)\u001b[0m\u001b[0;34m\u001b[0m\u001b[0;34m\u001b[0m\u001b[0m\n\u001b[0m\u001b[1;32m      6\u001b[0m         \u001b[0;32mif\u001b[0m \u001b[0mcomp\u001b[0m \u001b[0;34m==\u001b[0m \u001b[0;34m''\u001b[0m\u001b[0;34m:\u001b[0m\u001b[0;34m\u001b[0m\u001b[0;34m\u001b[0m\u001b[0m\n\u001b[1;32m      7\u001b[0m             \u001b[0mcomp\u001b[0m \u001b[0;34m=\u001b[0m \u001b[0;32mFalse\u001b[0m\u001b[0;34m\u001b[0m\u001b[0;34m\u001b[0m\u001b[0m\n",
      "\u001b[0;32m/Library/Frameworks/Python.framework/Versions/3.7/lib/python3.7/site-packages/ipykernel/kernelbase.py\u001b[0m in \u001b[0;36mraw_input\u001b[0;34m(self, prompt)\u001b[0m\n\u001b[1;32m    858\u001b[0m             \u001b[0mself\u001b[0m\u001b[0;34m.\u001b[0m\u001b[0m_parent_ident\u001b[0m\u001b[0;34m,\u001b[0m\u001b[0;34m\u001b[0m\u001b[0;34m\u001b[0m\u001b[0m\n\u001b[1;32m    859\u001b[0m             \u001b[0mself\u001b[0m\u001b[0;34m.\u001b[0m\u001b[0m_parent_header\u001b[0m\u001b[0;34m,\u001b[0m\u001b[0;34m\u001b[0m\u001b[0;34m\u001b[0m\u001b[0m\n\u001b[0;32m--> 860\u001b[0;31m             \u001b[0mpassword\u001b[0m\u001b[0;34m=\u001b[0m\u001b[0;32mFalse\u001b[0m\u001b[0;34m,\u001b[0m\u001b[0;34m\u001b[0m\u001b[0;34m\u001b[0m\u001b[0m\n\u001b[0m\u001b[1;32m    861\u001b[0m         )\n\u001b[1;32m    862\u001b[0m \u001b[0;34m\u001b[0m\u001b[0m\n",
      "\u001b[0;32m/Library/Frameworks/Python.framework/Versions/3.7/lib/python3.7/site-packages/ipykernel/kernelbase.py\u001b[0m in \u001b[0;36m_input_request\u001b[0;34m(self, prompt, ident, parent, password)\u001b[0m\n\u001b[1;32m    888\u001b[0m             \u001b[0;32mexcept\u001b[0m \u001b[0mKeyboardInterrupt\u001b[0m\u001b[0;34m:\u001b[0m\u001b[0;34m\u001b[0m\u001b[0;34m\u001b[0m\u001b[0m\n\u001b[1;32m    889\u001b[0m                 \u001b[0;31m# re-raise KeyboardInterrupt, to truncate traceback\u001b[0m\u001b[0;34m\u001b[0m\u001b[0;34m\u001b[0m\u001b[0;34m\u001b[0m\u001b[0m\n\u001b[0;32m--> 890\u001b[0;31m                 \u001b[0;32mraise\u001b[0m \u001b[0mKeyboardInterrupt\u001b[0m\u001b[0;34m\u001b[0m\u001b[0;34m\u001b[0m\u001b[0m\n\u001b[0m\u001b[1;32m    891\u001b[0m             \u001b[0;32melse\u001b[0m\u001b[0;34m:\u001b[0m\u001b[0;34m\u001b[0m\u001b[0;34m\u001b[0m\u001b[0m\n\u001b[1;32m    892\u001b[0m                 \u001b[0;32mbreak\u001b[0m\u001b[0;34m\u001b[0m\u001b[0;34m\u001b[0m\u001b[0m\n",
      "\u001b[0;31mKeyboardInterrupt\u001b[0m: "
     ]
    }
   ],
   "source": [
    "#use the following test IF NEEDED\n",
    "########################################\n",
    "# CIK = int('0001652044')(googl)\n",
    "#     search_range = [20170101,20180101]\n",
    "#     file_type = any variation of 10k works (eg '10k','10 k','10K'....)\n",
    "######################################\n",
    "# main()"
   ]
  },
  {
   "cell_type": "markdown",
   "metadata": {},
   "source": [
    "## CODE ABOVE THIS LINE WORKS\n",
    "# RUN EVERYTHING BEFORE 'MAIN()'\n",
    "# UNFINISHED BELOW THIS LINE"
   ]
  },
  {
   "cell_type": "code",
   "execution_count": 21,
   "metadata": {},
   "outputs": [
    {
     "name": "stdout",
     "output_type": "stream",
     "text": [
      "Please enter the ticker for the company you want to search(required):amzn\n",
      "\n",
      "\n",
      "Is this the company you are looking for? (Press Y for yes N for no)\n",
      "AMAZON COM INC CIK#: 0001018724 y\n",
      "Date format: YYYYMMDD\n",
      "optional - Search Start year (Press enter to pass):20170101\n",
      "optional - Search end year (Press enter to pass):20180101\n",
      "what document are you looking for?10k\n",
      "['http://sec.gov/Archives/edgar/data/1018724/000101872417000011/0001018724-17-000011.txt']\n"
     ]
    }
   ],
   "source": [
    "#working on parsing each 10k\n",
    "# doc_links = main()\n",
    "# print (doc_links)"
   ]
  },
  {
   "cell_type": "code",
   "execution_count": 1,
   "metadata": {},
   "outputs": [
    {
     "ename": "NameError",
     "evalue": "name 'doc_links' is not defined",
     "output_type": "error",
     "traceback": [
      "\u001b[0;31m---------------------------------------------------------------------------\u001b[0m",
      "\u001b[0;31mNameError\u001b[0m                                 Traceback (most recent call last)",
      "\u001b[0;32m<ipython-input-1-a930e9ca387f>\u001b[0m in \u001b[0;36m<module>\u001b[0;34m\u001b[0m\n\u001b[1;32m      1\u001b[0m \u001b[0;31m#writes the html to local\u001b[0m\u001b[0;34m\u001b[0m\u001b[0;34m\u001b[0m\u001b[0;34m\u001b[0m\u001b[0m\n\u001b[0;32m----> 2\u001b[0;31m \u001b[0;32mfor\u001b[0m \u001b[0mlk\u001b[0m \u001b[0;32min\u001b[0m \u001b[0mdoc_links\u001b[0m\u001b[0;34m:\u001b[0m\u001b[0;34m\u001b[0m\u001b[0;34m\u001b[0m\u001b[0m\n\u001b[0m\u001b[1;32m      3\u001b[0m     \u001b[0mt_10k\u001b[0m \u001b[0;34m=\u001b[0m \u001b[0mrequests\u001b[0m\u001b[0;34m.\u001b[0m\u001b[0mget\u001b[0m\u001b[0;34m(\u001b[0m\u001b[0mlk\u001b[0m\u001b[0;34m)\u001b[0m\u001b[0;34m\u001b[0m\u001b[0;34m\u001b[0m\u001b[0m\n\u001b[1;32m      4\u001b[0m     \u001b[0mfile_soup\u001b[0m \u001b[0;34m=\u001b[0m \u001b[0mBeautifulSoup\u001b[0m\u001b[0;34m(\u001b[0m\u001b[0mt_10k\u001b[0m\u001b[0;34m.\u001b[0m\u001b[0mcontent\u001b[0m\u001b[0;34m,\u001b[0m \u001b[0;34m'html.parser'\u001b[0m\u001b[0;34m)\u001b[0m\u001b[0;34m\u001b[0m\u001b[0;34m\u001b[0m\u001b[0m\n\u001b[1;32m      5\u001b[0m     \u001b[0mname_format\u001b[0m \u001b[0;34m=\u001b[0m \u001b[0;34m'{}.html'\u001b[0m\u001b[0;34m\u001b[0m\u001b[0;34m\u001b[0m\u001b[0m\n",
      "\u001b[0;31mNameError\u001b[0m: name 'doc_links' is not defined"
     ]
    }
   ],
   "source": [
    "# #writes the html to local\n",
    "# for lk in doc_links:\n",
    "#     t_10k = requests.get(lk)\n",
    "#     file_soup = BeautifulSoup(t_10k.content, 'html.parser')\n",
    "#     name_format = '{}.html'\n",
    "#     name = name_format.format(i)\n",
    "#     test= open(name,\"w\")\n",
    "#     test.write(str(file_soup))\n",
    "#     test.close()\n"
   ]
  },
  {
   "cell_type": "code",
   "execution_count": 22,
   "metadata": {},
   "outputs": [
    {
     "name": "stdout",
     "output_type": "stream",
     "text": [
      "Please enter the ticker for the company you want to search(required):amzn\n",
      "\n",
      "\n",
      "Is this the company you are looking for? (Press Y for yes N for no)\n",
      "AMAZON COM INC CIK#: 0001018724 y\n",
      "Date format: YYYYMMDD\n",
      "optional - Search Start year (Press enter to pass):20170101\n",
      "optional - Search end year (Press enter to pass):20180101\n",
      "what document are you looking for?10k\n"
     ]
    }
   ],
   "source": [
    "# comp_name = get_ticker()\n",
    "# search_range = get_year()\n",
    "# file_type = get_file_type()\n",
    "# initial_search_html = get_files(comp_name,search_range,file_type)\n",
    "# soup = initial_search_html\n",
    "\n"
   ]
  },
  {
   "cell_type": "code",
   "execution_count": 23,
   "metadata": {},
   "outputs": [
    {
     "name": "stdout",
     "output_type": "stream",
     "text": [
      "http://sec.gov/Archives/edgar/data/1018724/0000891020-98-000448-index.html\n"
     ]
    }
   ],
   "source": [
    "\n",
    "# file_rows = list(soup.find_all('tr'))[3:]\n",
    "# sec_link = 'http://sec.gov'\n",
    "# f_links = []\n",
    "\n",
    "# for row in file_rows:\n",
    "#     file_type = row.find_all('td',{'nowrap':'nowrap'})[0].text\n",
    "#     file_date = row.find_all('td')[3].text\n",
    "#     file_link = sec_link+row.find_all('td',{'nowrap':'nowrap'})[1].find_all('a', href = True)[0]['href']\n",
    "        \n",
    "\n",
    "\n",
    "# print (file_link)\n",
    "\n"
   ]
  },
  {
   "cell_type": "markdown",
   "metadata": {},
   "source": [
    "# New test starts here\n",
    "the following get to the four/five financial statements in html. the last cell will write these statement into .html for testing purposes"
   ]
  },
  {
   "cell_type": "code",
   "execution_count": 70,
   "metadata": {},
   "outputs": [
    {
     "name": "stdout",
     "output_type": "stream",
     "text": [
      "Please enter the ticker for the company you want to search(required):amzn\n",
      "\n",
      "\n",
      "Is this the company you are looking for? (Press Y for yes N for no)\n",
      "AMAZON COM INC CIK#: 0001018724 y\n",
      "Date format: YYYYMMDD\n",
      "optional - Search Start year (Press enter to pass):20150101\n",
      "optional - Search end year (Press enter to pass):20160101\n",
      "what document are you looking for?10k\n",
      "['http://sec.gov/Archives/edgar/data/1018724/000101872415000006/0001018724-15-000006.txt']\n"
     ]
    }
   ],
   "source": [
    "link = main()\n",
    "print(link)"
   ]
  },
  {
   "cell_type": "code",
   "execution_count": 71,
   "metadata": {},
   "outputs": [
    {
     "data": {
      "text/plain": [
       "15432046"
      ]
     },
     "execution_count": 71,
     "metadata": {},
     "output_type": "execute_result"
    }
   ],
   "source": [
    "import urllib.request\n",
    "broken_xml = urllib.request.urlopen(link[0]).read().decode('utf-8')\n",
    "file_soup = BeautifulSoup(broken_xml, 'html.parser')\n",
    "len(broken_xml)"
   ]
  },
  {
   "cell_type": "code",
   "execution_count": 72,
   "metadata": {},
   "outputs": [],
   "source": [
    "# tables = file_soup.find_all('table')[8]"
   ]
  },
  {
   "cell_type": "code",
   "execution_count": 73,
   "metadata": {},
   "outputs": [],
   "source": [
    "\n",
    "# finstat =  tables.find(lambda tag:tag.name==\"tr\" and \"Financial Statements\" in tag.text)"
   ]
  },
  {
   "cell_type": "code",
   "execution_count": 128,
   "metadata": {},
   "outputs": [
    {
     "data": {
      "text/plain": [
       "78"
      ]
     },
     "execution_count": 128,
     "metadata": {},
     "output_type": "execute_result"
    }
   ],
   "source": [
    "##### split page on the devider line\n",
    "pages = broken_xml.split('page-break')\n",
    "len(pages)"
   ]
  },
  {
   "cell_type": "code",
   "execution_count": 129,
   "metadata": {},
   "outputs": [],
   "source": [
    "documents = ['Consolidated Statements of Cash Flows','Consolidated Statements of Operations', 'Consolidated Statements of Comprehensive Income', 'Consolidated Balance Sheets', 'Consolidated Statements of Stockholders’ Equity','Notes to Consolidated Financial Statements']"
   ]
  },
  {
   "cell_type": "code",
   "execution_count": null,
   "metadata": {},
   "outputs": [],
   "source": []
  },
  {
   "cell_type": "code",
   "execution_count": 307,
   "metadata": {},
   "outputs": [],
   "source": [
    "fin_document_dict = {}\n",
    "doc_list = []\n",
    "for page in pages:\n",
    "    idx = pages.index(page)\n",
    "    found = 0\n",
    "    for i in documents:\n",
    "        if i.upper() in page:\n",
    "            key = i\n",
    "            found = +1\n",
    "    if found==1:\n",
    "        pair = [key,page]\n",
    "        doc_list.append(pair)"
   ]
  },
  {
   "cell_type": "code",
   "execution_count": 308,
   "metadata": {},
   "outputs": [],
   "source": [
    "from IPython.display import display_html\n",
    "statements = []\n",
    "for pair in doc_list:\n",
    "    name = pair[0]\n",
    "    page = pair[1]\n",
    "    \n",
    "    #parse page\n",
    "    file_soup = BeautifulSoup(page, 'html.parser')\n",
    "    table = str(file_soup.find_all('table'))\n",
    "    df = pd.read_html(table)[0].iloc[3:,:].dropna(axis = 1, how = 'all').fillna(0)\n",
    "    head = df.iloc[0]\n",
    "    df = df[1:]\n",
    "    df.columns = head\n",
    "    df[0] = df[0].apply(lambda x:x.replace('(','').replace(')','').replace('','').replace(',','').replace(';','').replace('0',''))\n",
    "    df = df.set_index(0)\n",
    "    pair = [name,df]\n",
    "    statements.append(pair)\n",
    "    \n",
    "    \n",
    "    \n",
    "    #break\n",
    "    "
   ]
  },
  {
   "cell_type": "code",
   "execution_count": 309,
   "metadata": {},
   "outputs": [],
   "source": [
    "clean_statements = []\n",
    "for pair in statements:\n",
    "    name = pair[0]\n",
    "    table = pair[1]\n",
    "    column_number = int(len(table.columns)/3)\n",
    "    column_name = table.columns.drop_duplicates().tolist()\n",
    "    column_index = table.index.tolist()\n",
    "    clean = pd.DataFrame()\n",
    "    clean['index'] = column_index\n",
    "    clean = clean.set_index('index')\n",
    "    for i in range(0,column_number):\n",
    "        which_column = (i+1)*3-2\n",
    "        content = table.iloc[:,which_column].values\n",
    "        column_name_clean = column_name[i]\n",
    "        clean[column_name_clean] = content\n",
    "    \n",
    "    pair = [name,clean]\n",
    "    clean_statements.append(pair)\n",
    "        \n",
    "    \n",
    "    \n",
    "    "
   ]
  },
  {
   "cell_type": "markdown",
   "metadata": {},
   "source": [
    "# Run the previous code\n",
    "clean statements is a nested list. the structure look like this\n",
    "clean statement = \n",
    "[\n",
    "                 [statement's name,  statement dataframe(which contains all the numbers]\n",
    "                 ......\n",
    "                 ]"
   ]
  },
  {
   "cell_type": "code",
   "execution_count": 312,
   "metadata": {},
   "outputs": [
    {
     "data": {
      "text/plain": [
       "['Consolidated Balance Sheets',\n",
       "                                               2014    2013\n",
       " index                                                     \n",
       " ASSETS                                           0       0\n",
       " Current assets:                                  0       0\n",
       " Cash and cash equivalents                    14557    8658\n",
       " Marketable securities                         2859    3789\n",
       " Inventories                                   8299    7411\n",
       " Accounts receivable net and other             5612    4767\n",
       " Total current assets                         31327   24625\n",
       " Property and equipment net                   16967   10949\n",
       " Goodwill                                      3319    2655\n",
       " Other assets                                  2892    1930\n",
       " Total assets                                 54505   40159\n",
       " LIABILITIES AND STOCKHOLDERS’ EQUITY             0       0\n",
       " Current liabilities:                             0       0\n",
       " Accounts payable                             16459   15133\n",
       " Accrued expenses and other                    9807    6688\n",
       " Unearned revenue                              1823    1159\n",
       " Total current liabilities                    28089   22980\n",
       " Long-term debt                                8265    3191\n",
       " Other long-term liabilities                   7410    4242\n",
       " Commitments and contingencies Note 8             0       0\n",
       " Stockholders’ equity:                            0       0\n",
       " Preferred stock $.1 par value:                   0       0\n",
       " Authorized shares — 5                            0       0\n",
       " Issued and outstanding shares — none             —       —\n",
       " Common stock $.1 par value:                      0       0\n",
       " Authorized shares — 5                            0       0\n",
       " Issued shares — 488 and 483                      0       0\n",
       " Outstanding shares — 465 and 459                 5       5\n",
       " Treasury stock at cost                      (1,837  (1,837\n",
       " Additional paid-in capital                   11135    9573\n",
       " Accumulated other comprehensive loss          (511    (185\n",
       " Retained earnings                             1949    2190\n",
       " Total stockholders’ equity                   10741    9746\n",
       " Total liabilities and stockholders’ equity   54505   40159]"
      ]
     },
     "execution_count": 312,
     "metadata": {},
     "output_type": "execute_result"
    }
   ],
   "source": [
    "# statements[0].iloc[:,1]\n",
    "clean_statements[3]"
   ]
  },
  {
   "cell_type": "code",
   "execution_count": 297,
   "metadata": {},
   "outputs": [
    {
     "ename": "ImportError",
     "evalue": "html5lib not found, please install it",
     "output_type": "error",
     "traceback": [
      "\u001b[0;31m---------------------------------------------------------------------------\u001b[0m",
      "\u001b[0;31mImportError\u001b[0m                               Traceback (most recent call last)",
      "\u001b[0;32m<ipython-input-297-600b18c00ec0>\u001b[0m in \u001b[0;36m<module>\u001b[0;34m\u001b[0m\n\u001b[0;32m----> 1\u001b[0;31m \u001b[0mdfs\u001b[0m \u001b[0;34m=\u001b[0m \u001b[0mpd\u001b[0m\u001b[0;34m.\u001b[0m\u001b[0mread_html\u001b[0m\u001b[0;34m(\u001b[0m\u001b[0mpage\u001b[0m\u001b[0;34m[\u001b[0m\u001b[0;34m-\u001b[0m\u001b[0;36m1\u001b[0m\u001b[0;34m]\u001b[0m\u001b[0;34m)\u001b[0m\u001b[0;34m\u001b[0m\u001b[0;34m\u001b[0m\u001b[0m\n\u001b[0m\u001b[1;32m      2\u001b[0m \u001b[0mdfs\u001b[0m\u001b[0;34m\u001b[0m\u001b[0;34m\u001b[0m\u001b[0m\n",
      "\u001b[0;32m/Library/Frameworks/Python.framework/Versions/3.7/lib/python3.7/site-packages/pandas/io/html.py\u001b[0m in \u001b[0;36mread_html\u001b[0;34m(io, match, flavor, header, index_col, skiprows, attrs, parse_dates, thousands, encoding, decimal, converters, na_values, keep_default_na, displayed_only)\u001b[0m\n\u001b[1;32m   1103\u001b[0m         \u001b[0mna_values\u001b[0m\u001b[0;34m=\u001b[0m\u001b[0mna_values\u001b[0m\u001b[0;34m,\u001b[0m\u001b[0;34m\u001b[0m\u001b[0;34m\u001b[0m\u001b[0m\n\u001b[1;32m   1104\u001b[0m         \u001b[0mkeep_default_na\u001b[0m\u001b[0;34m=\u001b[0m\u001b[0mkeep_default_na\u001b[0m\u001b[0;34m,\u001b[0m\u001b[0;34m\u001b[0m\u001b[0;34m\u001b[0m\u001b[0m\n\u001b[0;32m-> 1105\u001b[0;31m         \u001b[0mdisplayed_only\u001b[0m\u001b[0;34m=\u001b[0m\u001b[0mdisplayed_only\u001b[0m\u001b[0;34m,\u001b[0m\u001b[0;34m\u001b[0m\u001b[0;34m\u001b[0m\u001b[0m\n\u001b[0m\u001b[1;32m   1106\u001b[0m     )\n",
      "\u001b[0;32m/Library/Frameworks/Python.framework/Versions/3.7/lib/python3.7/site-packages/pandas/io/html.py\u001b[0m in \u001b[0;36m_parse\u001b[0;34m(flavor, io, match, attrs, encoding, displayed_only, **kwargs)\u001b[0m\n\u001b[1;32m    886\u001b[0m     \u001b[0mretained\u001b[0m \u001b[0;34m=\u001b[0m \u001b[0;32mNone\u001b[0m\u001b[0;34m\u001b[0m\u001b[0;34m\u001b[0m\u001b[0m\n\u001b[1;32m    887\u001b[0m     \u001b[0;32mfor\u001b[0m \u001b[0mflav\u001b[0m \u001b[0;32min\u001b[0m \u001b[0mflavor\u001b[0m\u001b[0;34m:\u001b[0m\u001b[0;34m\u001b[0m\u001b[0;34m\u001b[0m\u001b[0m\n\u001b[0;32m--> 888\u001b[0;31m         \u001b[0mparser\u001b[0m \u001b[0;34m=\u001b[0m \u001b[0m_parser_dispatch\u001b[0m\u001b[0;34m(\u001b[0m\u001b[0mflav\u001b[0m\u001b[0;34m)\u001b[0m\u001b[0;34m\u001b[0m\u001b[0;34m\u001b[0m\u001b[0m\n\u001b[0m\u001b[1;32m    889\u001b[0m         \u001b[0mp\u001b[0m \u001b[0;34m=\u001b[0m \u001b[0mparser\u001b[0m\u001b[0;34m(\u001b[0m\u001b[0mio\u001b[0m\u001b[0;34m,\u001b[0m \u001b[0mcompiled_match\u001b[0m\u001b[0;34m,\u001b[0m \u001b[0mattrs\u001b[0m\u001b[0;34m,\u001b[0m \u001b[0mencoding\u001b[0m\u001b[0;34m,\u001b[0m \u001b[0mdisplayed_only\u001b[0m\u001b[0;34m)\u001b[0m\u001b[0;34m\u001b[0m\u001b[0;34m\u001b[0m\u001b[0m\n\u001b[1;32m    890\u001b[0m \u001b[0;34m\u001b[0m\u001b[0m\n",
      "\u001b[0;32m/Library/Frameworks/Python.framework/Versions/3.7/lib/python3.7/site-packages/pandas/io/html.py\u001b[0m in \u001b[0;36m_parser_dispatch\u001b[0;34m(flavor)\u001b[0m\n\u001b[1;32m    833\u001b[0m     \u001b[0;32mif\u001b[0m \u001b[0mflavor\u001b[0m \u001b[0;32min\u001b[0m \u001b[0;34m(\u001b[0m\u001b[0;34m\"bs4\"\u001b[0m\u001b[0;34m,\u001b[0m \u001b[0;34m\"html5lib\"\u001b[0m\u001b[0;34m)\u001b[0m\u001b[0;34m:\u001b[0m\u001b[0;34m\u001b[0m\u001b[0;34m\u001b[0m\u001b[0m\n\u001b[1;32m    834\u001b[0m         \u001b[0;32mif\u001b[0m \u001b[0;32mnot\u001b[0m \u001b[0m_HAS_HTML5LIB\u001b[0m\u001b[0;34m:\u001b[0m\u001b[0;34m\u001b[0m\u001b[0;34m\u001b[0m\u001b[0m\n\u001b[0;32m--> 835\u001b[0;31m             \u001b[0;32mraise\u001b[0m \u001b[0mImportError\u001b[0m\u001b[0;34m(\u001b[0m\u001b[0;34m\"html5lib not found, please install it\"\u001b[0m\u001b[0;34m)\u001b[0m\u001b[0;34m\u001b[0m\u001b[0;34m\u001b[0m\u001b[0m\n\u001b[0m\u001b[1;32m    836\u001b[0m         \u001b[0;32mif\u001b[0m \u001b[0;32mnot\u001b[0m \u001b[0m_HAS_BS4\u001b[0m\u001b[0;34m:\u001b[0m\u001b[0;34m\u001b[0m\u001b[0;34m\u001b[0m\u001b[0m\n\u001b[1;32m    837\u001b[0m             \u001b[0;32mraise\u001b[0m \u001b[0mImportError\u001b[0m\u001b[0;34m(\u001b[0m\u001b[0;34m\"BeautifulSoup4 (bs4) not found, please install it\"\u001b[0m\u001b[0;34m)\u001b[0m\u001b[0;34m\u001b[0m\u001b[0;34m\u001b[0m\u001b[0m\n",
      "\u001b[0;31mImportError\u001b[0m: html5lib not found, please install it"
     ]
    }
   ],
   "source": []
  },
  {
   "cell_type": "code",
   "execution_count": 44,
   "metadata": {},
   "outputs": [],
   "source": [
    "# # write to html as test\n",
    "# file = open('test.html','w')\n",
    "# for i in temp_list:\n",
    "#     file.write(i)\n",
    "# file.close()"
   ]
  },
  {
   "cell_type": "code",
   "execution_count": 43,
   "metadata": {},
   "outputs": [],
   "source": []
  },
  {
   "cell_type": "code",
   "execution_count": null,
   "metadata": {},
   "outputs": [],
   "source": []
  }
 ],
 "metadata": {
  "kernelspec": {
   "display_name": "Python 3",
   "language": "python",
   "name": "python3"
  },
  "language_info": {
   "codemirror_mode": {
    "name": "ipython",
    "version": 3
   },
   "file_extension": ".py",
   "mimetype": "text/x-python",
   "name": "python",
   "nbconvert_exporter": "python",
   "pygments_lexer": "ipython3",
   "version": "3.7.4"
  }
 },
 "nbformat": 4,
 "nbformat_minor": 2
}
