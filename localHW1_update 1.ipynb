{
 "cells": [
  {
   "cell_type": "code",
   "execution_count": 166,
   "metadata": {},
   "outputs": [],
   "source": [
    "\n",
    "import requests\n",
    "from lxml import html\n",
    "from bs4 import BeautifulSoup\n",
    "import re\n",
    "from datetime import date\n",
    "import pandas as pd\n",
    "import requests"
   ]
  },
  {
   "cell_type": "code",
   "execution_count": null,
   "metadata": {},
   "outputs": [],
   "source": []
  },
  {
   "cell_type": "markdown",
   "metadata": {},
   "source": [
    "### GET TICKER FROM USER (VALIDATION INCLUDED)"
   ]
  },
  {
   "cell_type": "code",
   "execution_count": 167,
   "metadata": {},
   "outputs": [],
   "source": [
    "#returns the company's CIK\n",
    "def get_ticker():\n",
    "    comp = False\n",
    "    while comp == False:\n",
    "        comp = input('Please enter the ticker for the company you want to search(required):')\n",
    "        if comp == '':\n",
    "            comp = False\n",
    "        else:\n",
    "            #get the search page \n",
    "            #count = 5 so parse fast since we are just getting the name of company\n",
    "            baselink = 'https://www.sec.gov/cgi-bin/browse-edgar?action=getcompany&CIK={}&type=&dateb=&owner=exclude&count=5'\n",
    "            #search lowercase \n",
    "            comp = comp.lower()\n",
    "            url = baselink.format(comp)\n",
    "            page = requests.get(url)\n",
    "            soup = BeautifulSoup(page.content, 'html.parser')\n",
    "\n",
    "            #see if no match is found \n",
    "            no_match = soup.find_all('h1')\n",
    "\n",
    "            #if not found \n",
    "            if len(list(no_match))!=0:\n",
    "                print(no_match[0].text)\n",
    "                print('Please try again')\n",
    "                comp = False\n",
    "            #when there is a match, check if right match\n",
    "            else:\n",
    "                comp_name = list(soup.find_all('span', class_ = 'companyName'))[0].\\\n",
    "                text.replace('(see all company filings)','')\n",
    "\n",
    "                right_company = False\n",
    "                #ask the user if they is what they are looking for\n",
    "                right_company = False\n",
    "                while right_company == False:\n",
    "                    print('')\n",
    "                    print('')\n",
    "                    print('Is this the company you are looking for? (Press Y for yes N for no)')\n",
    "                    right_company = input(comp_name)\n",
    "                    if right_company.upper() != 'Y' and right_company.upper() !='N':\n",
    "                        right_company = False\n",
    "                    elif right_company.upper() == 'N':\n",
    "                        comp = False\n",
    "                    else: \n",
    "                        return comp_name.split(' ')[-2]\n"
   ]
  },
  {
   "cell_type": "markdown",
   "metadata": {},
   "source": [
    "### GET THE DATE SEARCH RANGE A SEPRATE DATE VALIDATION"
   ]
  },
  {
   "cell_type": "code",
   "execution_count": 168,
   "metadata": {},
   "outputs": [],
   "source": [
    "#check if the date entered is valid \n",
    "#returns either False or valid date as pair [start,end]\n",
    "def date_validation(start, end):\n",
    "    current_date = int(date.today().strftime('%Y%m%d'))\n",
    "    \n",
    "    #ignore if empty start and end\n",
    "    if start == '' and end == '':\n",
    "        return ['','']\n",
    "    #check format length\n",
    "    if len(start) != 8 or len(end)!=8:\n",
    "        print('Please check date entered!')\n",
    "        return False\n",
    "    \n",
    "    #see if user entered the right date\n",
    "    try:\n",
    "        start_test = pd.to_datetime(start,format='%Y%m%d')\n",
    "        end_test = pd.to_datetime(end,format='%Y%m%d')\n",
    "    #when the user enter the wrong content - entering anyting other than numbers \n",
    "    except:\n",
    "        print('Please enter the right date (numbers only)')\n",
    "        return False\n",
    "    start = int(start)\n",
    "    end = int(end)\n",
    "    #check if reasonable begin &end date\n",
    "    if start> current_date or start < 20090501 or end <20090501 or end < start:\n",
    "        print('Please check the year entry. The application do not support search prior to May 2009.')\n",
    "        return False\n",
    "    else:\n",
    "        #if user's end year > this year, then end year would be this year\n",
    "        if end > current_date:\n",
    "            end = current_date\n",
    "            return[start,end]\n",
    "        else:\n",
    "            right_year = True\n",
    "            return[start,end]   \n",
    "        \n",
    "        \n",
    "#asking for the end year start year\n",
    "#return the final search range. format: list[startdate, enddate]\n",
    "def get_year():\n",
    "    \n",
    "    right_year = False\n",
    "    while right_year == False:\n",
    "        print('Date format: YYYYMMDD')\n",
    "        start_year = input('optional - Search Start year (Press enter to pass):')\n",
    "        end_year = input('optional - Search end year (Press enter to pass):')\n",
    "        right_year = date_validation(start_year , end_year)\n",
    "    return right_year"
   ]
  },
  {
   "cell_type": "markdown",
   "metadata": {},
   "source": [
    "### GET FILE TYPE (10-K ONLY SO FAR)"
   ]
  },
  {
   "cell_type": "code",
   "execution_count": 169,
   "metadata": {},
   "outputs": [],
   "source": [
    "#get the file type\n",
    "#so far only returns '10-k'\n",
    "#returns true or false\n",
    "def get_file_type():\n",
    "    filetype = False\n",
    "    while filetype == False:\n",
    "        filetype = input ('what document are you looking for?')\n",
    "        if filetype == '':\n",
    "            filetype = False\n",
    "        else:\n",
    "            if filetype == '10k' or filetype =='10 k' or filetype =='10-k'\\\n",
    "            or filetype =='10K' or filetype =='10 K' or filetype =='10-K':\n",
    "                return '10-K'\n",
    "            else:\n",
    "                print('Please check the file type!')\n",
    "                filetype = False\n",
    "    "
   ]
  },
  {
   "cell_type": "code",
   "execution_count": null,
   "metadata": {},
   "outputs": [],
   "source": []
  },
  {
   "cell_type": "markdown",
   "metadata": {},
   "source": [
    "### GET THE ACTUAL 10K FILES"
   ]
  },
  {
   "cell_type": "markdown",
   "metadata": {},
   "source": [
    "#### Get the initial search page"
   ]
  },
  {
   "cell_type": "code",
   "execution_count": 170,
   "metadata": {},
   "outputs": [],
   "source": [
    "#returns a page worth of html\n",
    "def get_files(CIK, search_range,file_type):\n",
    "\n",
    "    baselink = 'https://www.sec.gov/cgi-bin/browse-edgar?action=getcompany&CIK={}&type={}&dateb={}&owner=exclude&count=100'\n",
    "\n",
    "    #break date_range into start and end, link only takes dates prior to XXXX\n",
    "    start_year = search_range[0]\n",
    "    end_year = search_range[1]\n",
    "    #fill link\n",
    "    link = baselink.format(CIK,file_type,end_year)\n",
    "\n",
    "    #get html content\n",
    "    page = requests.get(link)\n",
    "    soup = BeautifulSoup(page.content, 'html.parser')\n",
    "    return soup"
   ]
  },
  {
   "cell_type": "markdown",
   "metadata": {},
   "source": [
    "#### get dataframe that contains the file type, link and date"
   ]
  },
  {
   "cell_type": "code",
   "execution_count": 171,
   "metadata": {},
   "outputs": [],
   "source": [
    "#get the table that contain the information\n",
    "#returns a dataframe\n",
    "def get_files_df(soup):\n",
    "    file_rows = list(soup.find_all('tr'))[3:]\n",
    "\n",
    "    #create list that contain each file's information\n",
    "    f_types =[]\n",
    "    f_links =[]\n",
    "    f_dates = []\n",
    "    sec_link = 'http://sec.gov'\n",
    "\n",
    "    #create list that contain each file's information\n",
    "    for row in file_rows:\n",
    "        \n",
    "        #gets file date\n",
    "        file_date = int(row.find_all('td')[3].text.replace('-',''))\n",
    "\n",
    "        #this gets every item's file link\n",
    "        if file_date >search_range[0] and file_date<search_range[1]:\n",
    "            file_link = sec_link+row.find_all('td',{'nowrap':'nowrap'})[1].find_all('a',href = True)\\\n",
    "                            [1]['href']\n",
    "            file_date = int(row.find_all('td')[3].text.replace('-',''))\n",
    "            file_type = row.find_all('td',{'nowrap':'nowrap'})[0].text\n",
    "            print ('look')\n",
    "            print(file_link)\n",
    "            f_types.append(file_type)\n",
    "            f_dates.append(file_date)\n",
    "            f_links.append(file_link)\n",
    "\n",
    "\n",
    "    #construct a table:\n",
    "    #['file type']: 10-k | ['file link']: sec.gov/Archive/....| ['file date': 19960303]\n",
    "    files_table = pd.DataFrame({'file type':f_types,'file link':f_links,'file date':f_dates})\n",
    "    return files_table\n"
   ]
  },
  {
   "cell_type": "code",
   "execution_count": null,
   "metadata": {},
   "outputs": [],
   "source": []
  },
  {
   "cell_type": "markdown",
   "metadata": {},
   "source": [
    "#### create a dataframe that filters for the right file types and dates"
   ]
  },
  {
   "cell_type": "code",
   "execution_count": 176,
   "metadata": {},
   "outputs": [],
   "source": [
    "#filter dates since SEC only allows search with 'prior to'\n",
    "#filter out non-10k item (e.g. 10-k/a...)\n",
    "#returns a dataframe\n",
    "def filtered_df(search_range,file_type,files_table):\n",
    "#     #filter date\n",
    "#     date_filtered = files_table[files_table['file date']>search_range[0]]\n",
    "#     date_filtered\n",
    "#     date_filtered = date_filtered[date_filtered['file date']<search_range[1]]\n",
    "#     #filter file type\n",
    "#     type_filtered = date_filtered[date_filtered['file type']=='10-K']\n",
    "    return files_table"
   ]
  },
  {
   "cell_type": "markdown",
   "metadata": {},
   "source": [
    "#### get the link to all the 10-k files "
   ]
  },
  {
   "cell_type": "code",
   "execution_count": 177,
   "metadata": {},
   "outputs": [],
   "source": [
    "#get links for file \n",
    "#returns a lis of links\n",
    "# def get_list_doc_link_text(filtered_df):\n",
    "#     sec_link = 'http://sec.gov'\n",
    "#     file_links = filtered_df['file link'].tolist()\n",
    "#     doc_links = []\n",
    "#     for URL in file_links:\n",
    "#         page_specific_10k = requests.get(URL)\n",
    "#         soup = BeautifulSoup(page_specific_10k.content, 'html.parser')\n",
    "#         complete_file_link = soup.find_all('table')[0].find_all('tr')[-1].\\\n",
    "#                                         find_all('a',href = True)[0]['href']\n",
    "#         doc_full_link = sec_link + complete_file_link\n",
    "#         doc_links.append(doc_full_link)\n",
    "#         return doc_links\n",
    "def get_link(filtered_df):\n",
    "    return filtered_df['file link']"
   ]
  },
  {
   "cell_type": "markdown",
   "metadata": {},
   "source": [
    "#### MAIN FUNCTION THAT USE OTHER FUNCTIONS"
   ]
  },
  {
   "cell_type": "code",
   "execution_count": 178,
   "metadata": {},
   "outputs": [],
   "source": [
    "\n",
    "#currently returns a list of file links\n",
    "#should return the process of getting FCFF\n",
    "def main():\n",
    "    comp_name = get_ticker()\n",
    "    search_range = get_year()\n",
    "    file_type = get_file_type()\n",
    "    initial_search_html = get_files(comp_name,search_range,file_type)\n",
    "    file_link_df = get_files_df(initial_search_html)\n",
    "    filtered = filtered_df(search_range,file_type,file_link_df)\n",
    "    links = get_link(filtered)\n",
    "    if len(links) ==0\n",
    "    \n",
    "    \n",
    "    return links\n",
    "    \n",
    "    \n",
    "    \n",
    "    "
   ]
  },
  {
   "cell_type": "code",
   "execution_count": 179,
   "metadata": {},
   "outputs": [
    {
     "name": "stdout",
     "output_type": "stream",
     "text": [
      "Please enter the ticker for the company you want to search(required):ibm\n",
      "\n",
      "\n",
      "Is this the company you are looking for? (Press Y for yes N for no)\n",
      "INTERNATIONAL BUSINESS MACHINES CORP CIK#: 0000051143 y\n",
      "Date format: YYYYMMDD\n",
      "optional - Search Start year (Press enter to pass):20090505\n",
      "optional - Search end year (Press enter to pass):20101212\n",
      "what document are you looking for?10k\n",
      "look\n",
      "http://sec.gov/cgi-bin/viewer?action=view&cik=51143&accession_number=0001047469-10-001151&xbrl_type=v\n"
     ]
    },
    {
     "data": {
      "text/plain": [
       "0    http://sec.gov/cgi-bin/viewer?action=view&cik=...\n",
       "Name: file link, dtype: object"
      ]
     },
     "execution_count": 179,
     "metadata": {},
     "output_type": "execute_result"
    }
   ],
   "source": [
    "#use the following test IF NEEDED\n",
    "########################################\n",
    "# CIK = int('0001652044')(googl)\n",
    "#     search_range = [20170101,20180101]\n",
    "#     file_type = any variation of 10k works (eg '10k','10 k','10K'....)\n",
    "######################################\n",
    "main()"
   ]
  },
  {
   "cell_type": "markdown",
   "metadata": {},
   "source": [
    "## CODE ABOVE THIS LINE WORKS\n",
    "# RUN EVERYTHING BEFORE 'MAIN()'\n",
    "# UNFINISHED BELOW THIS LINE"
   ]
  },
  {
   "cell_type": "code",
   "execution_count": 146,
   "metadata": {},
   "outputs": [
    {
     "name": "stdout",
     "output_type": "stream",
     "text": [
      "Please enter the ticker for the company you want to search(required):ib\n",
      "No matching Ticker Symbol.\n",
      "Please try again\n",
      "Please enter the ticker for the company you want to search(required):ibm\n",
      "\n",
      "\n",
      "Is this the company you are looking for? (Press Y for yes N for no)\n",
      "INTERNATIONAL BUSINESS MACHINES CORP CIK#: 0000051143 y\n",
      "Date format: YYYYMMDD\n",
      "optional - Search Start year (Press enter to pass):20090505\n",
      "optional - Search end year (Press enter to pass):20101212\n",
      "what document are you looking for?10k\n",
      "['http://sec.gov#']\n"
     ]
    }
   ],
   "source": [
    "#working on parsing each 10k\n",
    "doc_links = main()\n",
    "print (doc_links)"
   ]
  },
  {
   "cell_type": "code",
   "execution_count": 1,
   "metadata": {},
   "outputs": [
    {
     "ename": "NameError",
     "evalue": "name 'doc_links' is not defined",
     "output_type": "error",
     "traceback": [
      "\u001b[0;31m---------------------------------------------------------------------------\u001b[0m",
      "\u001b[0;31mNameError\u001b[0m                                 Traceback (most recent call last)",
      "\u001b[0;32m<ipython-input-1-a930e9ca387f>\u001b[0m in \u001b[0;36m<module>\u001b[0;34m\u001b[0m\n\u001b[1;32m      1\u001b[0m \u001b[0;31m#writes the html to local\u001b[0m\u001b[0;34m\u001b[0m\u001b[0;34m\u001b[0m\u001b[0;34m\u001b[0m\u001b[0m\n\u001b[0;32m----> 2\u001b[0;31m \u001b[0;32mfor\u001b[0m \u001b[0mlk\u001b[0m \u001b[0;32min\u001b[0m \u001b[0mdoc_links\u001b[0m\u001b[0;34m:\u001b[0m\u001b[0;34m\u001b[0m\u001b[0;34m\u001b[0m\u001b[0m\n\u001b[0m\u001b[1;32m      3\u001b[0m     \u001b[0mt_10k\u001b[0m \u001b[0;34m=\u001b[0m \u001b[0mrequests\u001b[0m\u001b[0;34m.\u001b[0m\u001b[0mget\u001b[0m\u001b[0;34m(\u001b[0m\u001b[0mlk\u001b[0m\u001b[0;34m)\u001b[0m\u001b[0;34m\u001b[0m\u001b[0;34m\u001b[0m\u001b[0m\n\u001b[1;32m      4\u001b[0m     \u001b[0mfile_soup\u001b[0m \u001b[0;34m=\u001b[0m \u001b[0mBeautifulSoup\u001b[0m\u001b[0;34m(\u001b[0m\u001b[0mt_10k\u001b[0m\u001b[0;34m.\u001b[0m\u001b[0mcontent\u001b[0m\u001b[0;34m,\u001b[0m \u001b[0;34m'html.parser'\u001b[0m\u001b[0;34m)\u001b[0m\u001b[0;34m\u001b[0m\u001b[0;34m\u001b[0m\u001b[0m\n\u001b[1;32m      5\u001b[0m     \u001b[0mname_format\u001b[0m \u001b[0;34m=\u001b[0m \u001b[0;34m'{}.html'\u001b[0m\u001b[0;34m\u001b[0m\u001b[0;34m\u001b[0m\u001b[0m\n",
      "\u001b[0;31mNameError\u001b[0m: name 'doc_links' is not defined"
     ]
    }
   ],
   "source": [
    "#writes the html to local\n",
    "for lk in doc_links:\n",
    "    t_10k = requests.get(lk)\n",
    "    file_soup = BeautifulSoup(t_10k.content, 'html.parser')\n",
    "    name_format = '{}.html'\n",
    "    name = name_format.format(i)\n",
    "    test= open(name,\"w\")\n",
    "    test.write(str(file_soup))\n",
    "    test.close()\n"
   ]
  },
  {
   "cell_type": "code",
   "execution_count": 141,
   "metadata": {},
   "outputs": [
    {
     "name": "stdout",
     "output_type": "stream",
     "text": [
      "Please enter the ticker for the company you want to search(required):ibm\n",
      "\n",
      "\n",
      "Is this the company you are looking for? (Press Y for yes N for no)\n",
      "INTERNATIONAL BUSINESS MACHINES CORP CIK#: 0000051143 y\n",
      "Date format: YYYYMMDD\n",
      "optional - Search Start year (Press enter to pass):20090505\n",
      "optional - Search end year (Press enter to pass):20101212\n",
      "what document are you looking for?10k\n"
     ]
    }
   ],
   "source": [
    "comp_name = get_ticker()\n",
    "search_range = get_year()\n",
    "file_type = get_file_type()\n",
    "initial_search_html = get_files(comp_name,search_range,file_type)\n",
    "soup = initial_search_html\n",
    "\n"
   ]
  },
  {
   "cell_type": "code",
   "execution_count": 142,
   "metadata": {},
   "outputs": [
    {
     "name": "stdout",
     "output_type": "stream",
     "text": [
      "['http://sec.gov/cgi-bin/viewer?action=view&cik=51143&accession_number=0001047469-10-001151&xbrl_type=v']\n"
     ]
    }
   ],
   "source": [
    "soup\n",
    "file_rows = list(soup.find_all('tr'))[3:]\n",
    "sec_link = 'http://sec.gov'\n",
    "f_links = []\n",
    "\n",
    "for row in file_rows:\n",
    "    file_date = int(row.find_all('td')[3].text.replace('-',''))\n",
    "    if file_date >search_range[0] and file_date<search_range[1]:\n",
    "        file_link = sec_link+row.find_all('td',{'nowrap':'nowrap'})[1].find_all('a',href = True)\\\n",
    "                            [1]['href']\n",
    "        f_links.append(file_link)\n",
    "        \n",
    "\n",
    "\n",
    "print (f_links)\n",
    "\n"
   ]
  },
  {
   "cell_type": "code",
   "execution_count": 147,
   "metadata": {},
   "outputs": [
    {
     "name": "stdout",
     "output_type": "stream",
     "text": [
      "Please enter the ticker for the company you want to search(required):ibm\n",
      "\n",
      "\n",
      "Is this the company you are looking for? (Press Y for yes N for no)\n",
      "INTERNATIONAL BUSINESS MACHINES CORP CIK#: 0000051143 y\n",
      "Date format: YYYYMMDD\n",
      "optional - Search Start year (Press enter to pass):20090505\n",
      "optional - Search end year (Press enter to pass):20101212\n",
      "what document are you looking for?10k\n",
      "  file type                                          file link  file date\n",
      "0      10-K  http://sec.gov/cgi-bin/viewer?action=view&cik=...   20100223\n"
     ]
    }
   ],
   "source": [
    "    comp_name = get_ticker()\n",
    "    search_range = get_year()\n",
    "    file_type = get_file_type()\n",
    "    initial_search_html = get_files(comp_name,search_range,file_type)\n",
    "    file_link_df = get_files_df(initial_search_html)\n",
    "    filtered = filtered_df(search_range,file_type,file_link_df)\n",
    "    print(filtered)"
   ]
  },
  {
   "cell_type": "code",
   "execution_count": 148,
   "metadata": {},
   "outputs": [
    {
     "name": "stdout",
     "output_type": "stream",
     "text": [
      "0    http://sec.gov/cgi-bin/viewer?action=view&cik=...\n",
      "Name: file link, dtype: object\n"
     ]
    }
   ],
   "source": [
    "    print(filtered['file link'])"
   ]
  },
  {
   "cell_type": "code",
   "execution_count": null,
   "metadata": {},
   "outputs": [],
   "source": []
  }
 ],
 "metadata": {
  "kernelspec": {
   "display_name": "Python 3",
   "language": "python",
   "name": "python3"
  },
  "language_info": {
   "codemirror_mode": {
    "name": "ipython",
    "version": 3
   },
   "file_extension": ".py",
   "mimetype": "text/x-python",
   "name": "python",
   "nbconvert_exporter": "python",
   "pygments_lexer": "ipython3",
   "version": "3.7.4"
  }
 },
 "nbformat": 4,
 "nbformat_minor": 2
}
